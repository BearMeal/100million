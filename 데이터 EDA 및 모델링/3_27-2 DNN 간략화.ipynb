{
  "cells": [
    {
      "attachments": {},
      "cell_type": "markdown",
      "metadata": {},
      "source": [
        "진호님이 일단 실행되게끔 만들어 본것"
      ]
    },
    {
      "cell_type": "code",
      "execution_count": 1,
      "metadata": {
        "colab": {
          "base_uri": "https://localhost:8080/"
        },
        "id": "FlJcCm9HtWrN",
        "outputId": "0c658e73-8ec1-4017-cbfe-f7e4aa637c6f"
      },
      "outputs": [],
      "source": [
        "# 3_21 모델학습 후 예측한 결과가 심통치않아 새로 전처리 해보기로 하였다.\n",
        "# 벡터를 이용한 모델을 생성해서 문자열 값을 리턴 받아보자.\n",
        "from tensorflow.keras.models import *\n",
        "from tensorflow.keras.layers import *\n",
        "import tensorflow as tf\n",
        "import numpy as np\n",
        "\n",
        "#1. Naver Sentiment Movie Corpus v1.0 다운로드\n",
        "train_file = tf.keras.utils.get_file('train.txt', 'https://raw.githubusercontent.com/e9t/nsmc/master/ratings_train.txt')\n",
        "test_file = tf.keras.utils.get_file( 'test.txt',  'https://raw.githubusercontent.com/e9t/nsmc/master/ratings_test.txt')\n",
        "\n",
        "#파일을 이진모드로 읽어온다. 디코드는 utf8로한다.\n",
        "train_text = open(train_file,'rb').read().decode(encoding='utf-8')\n",
        "test_text = open(test_file,'rb').read().decode(encoding='utf-8')\n",
        "\n"
      ]
    },
    {
      "cell_type": "code",
      "execution_count": 38,
      "metadata": {},
      "outputs": [],
      "source": [
        "import pandas as pd\n",
        "#x,y값을 추출후 데이터프레임에 넣는다.\n",
        "# X 값 추출 피쳐feature, y값 추출target \n",
        "\n",
        "df_train = pd.DataFrame({\n",
        "    'feature':[row.split('\\t')[1] for row in train_text.split('\\n')[1:] if row.count('\\t')>0],\n",
        "    'target': [ int(row.split('\\t')[2]) for row in train_text.split('\\n')[1:] if row.count('\\t')>0]\n",
        "})\n"
      ]
    },
    {
      "cell_type": "code",
      "execution_count": 39,
      "metadata": {},
      "outputs": [
        {
          "data": {
            "text/html": [
              "<div>\n",
              "<style scoped>\n",
              "    .dataframe tbody tr th:only-of-type {\n",
              "        vertical-align: middle;\n",
              "    }\n",
              "\n",
              "    .dataframe tbody tr th {\n",
              "        vertical-align: top;\n",
              "    }\n",
              "\n",
              "    .dataframe thead th {\n",
              "        text-align: right;\n",
              "    }\n",
              "</style>\n",
              "<table border=\"1\" class=\"dataframe\">\n",
              "  <thead>\n",
              "    <tr style=\"text-align: right;\">\n",
              "      <th></th>\n",
              "      <th>feature</th>\n",
              "      <th>target</th>\n",
              "    </tr>\n",
              "  </thead>\n",
              "  <tbody>\n",
              "    <tr>\n",
              "      <th>0</th>\n",
              "      <td>아 더빙.. 진짜 짜증나네요 목소리</td>\n",
              "      <td>0</td>\n",
              "    </tr>\n",
              "    <tr>\n",
              "      <th>1</th>\n",
              "      <td>흠...포스터보고 초딩영화줄....오버연기조차 가볍지 않구나</td>\n",
              "      <td>1</td>\n",
              "    </tr>\n",
              "    <tr>\n",
              "      <th>2</th>\n",
              "      <td>너무재밓었다그래서보는것을추천한다</td>\n",
              "      <td>0</td>\n",
              "    </tr>\n",
              "    <tr>\n",
              "      <th>3</th>\n",
              "      <td>교도소 이야기구먼 ..솔직히 재미는 없다..평점 조정</td>\n",
              "      <td>0</td>\n",
              "    </tr>\n",
              "    <tr>\n",
              "      <th>4</th>\n",
              "      <td>사이몬페그의 익살스런 연기가 돋보였던 영화!스파이더맨에서 늙어보이기만 했던 커스틴 ...</td>\n",
              "      <td>1</td>\n",
              "    </tr>\n",
              "    <tr>\n",
              "      <th>...</th>\n",
              "      <td>...</td>\n",
              "      <td>...</td>\n",
              "    </tr>\n",
              "    <tr>\n",
              "      <th>149995</th>\n",
              "      <td>인간이 문제지.. 소는 뭔죄인가..</td>\n",
              "      <td>0</td>\n",
              "    </tr>\n",
              "    <tr>\n",
              "      <th>149996</th>\n",
              "      <td>평점이 너무 낮아서...</td>\n",
              "      <td>1</td>\n",
              "    </tr>\n",
              "    <tr>\n",
              "      <th>149997</th>\n",
              "      <td>이게 뭐요? 한국인은 거들먹거리고 필리핀 혼혈은 착하다?</td>\n",
              "      <td>0</td>\n",
              "    </tr>\n",
              "    <tr>\n",
              "      <th>149998</th>\n",
              "      <td>청춘 영화의 최고봉.방황과 우울했던 날들의 자화상</td>\n",
              "      <td>1</td>\n",
              "    </tr>\n",
              "    <tr>\n",
              "      <th>149999</th>\n",
              "      <td>한국 영화 최초로 수간하는 내용이 담긴 영화</td>\n",
              "      <td>0</td>\n",
              "    </tr>\n",
              "  </tbody>\n",
              "</table>\n",
              "<p>150000 rows × 2 columns</p>\n",
              "</div>"
            ],
            "text/plain": [
              "                                                  feature  target\n",
              "0                                     아 더빙.. 진짜 짜증나네요 목소리       0\n",
              "1                       흠...포스터보고 초딩영화줄....오버연기조차 가볍지 않구나       1\n",
              "2                                       너무재밓었다그래서보는것을추천한다       0\n",
              "3                           교도소 이야기구먼 ..솔직히 재미는 없다..평점 조정       0\n",
              "4       사이몬페그의 익살스런 연기가 돋보였던 영화!스파이더맨에서 늙어보이기만 했던 커스틴 ...       1\n",
              "...                                                   ...     ...\n",
              "149995                                인간이 문제지.. 소는 뭔죄인가..       0\n",
              "149996                                      평점이 너무 낮아서...       1\n",
              "149997                    이게 뭐요? 한국인은 거들먹거리고 필리핀 혼혈은 착하다?       0\n",
              "149998                        청춘 영화의 최고봉.방황과 우울했던 날들의 자화상       1\n",
              "149999                           한국 영화 최초로 수간하는 내용이 담긴 영화       0\n",
              "\n",
              "[150000 rows x 2 columns]"
            ]
          },
          "execution_count": 39,
          "metadata": {},
          "output_type": "execute_result"
        }
      ],
      "source": [
        "df_train\n",
        "# print(y_train[:3])"
      ]
    },
    {
      "cell_type": "code",
      "execution_count": 23,
      "metadata": {},
      "outputs": [
        {
          "data": {
            "text/plain": [
              "0          True\n",
              "1         False\n",
              "2          True\n",
              "3          True\n",
              "4         False\n",
              "          ...  \n",
              "149995     True\n",
              "149996    False\n",
              "149997     True\n",
              "149998    False\n",
              "149999     True\n",
              "Name: 0, Length: 150000, dtype: bool"
            ]
          },
          "execution_count": 23,
          "metadata": {},
          "output_type": "execute_result"
        }
      ],
      "source": [
        "df.iloc[:,1]==0"
      ]
    },
    {
      "cell_type": "code",
      "execution_count": null,
      "metadata": {},
      "outputs": [],
      "source": [
        "\n",
        "\n",
        "bad = df[df.iloc[:,1]==0]\n",
        "good = df[df.iloc[:,1]==1]\n",
        "\n",
        "test111=pd.concat([bad,good],axis=0) #라벨이 같이 들어온다.\n",
        "\n",
        "\n",
        "from sklearn.feature_extraction.text import TfidfVectorizer\n",
        "from konlpy.tag import Okt\n",
        "\n",
        "vectorizer = TfidfVectorizer( tokenizer= Okt().morphs ) # 매개변수를 조정하여 다양한 옵션을 적용할 수 있습니다.\n",
        "X = vectorizer.fit_transform(test111.iloc[:,0])\n",
        "y = test111.iloc[:,1]\n",
        "\n",
        "from sklearn.model_selection import train_test_split\n",
        "X_train, X_test, y_train, y_test = train_test_split(X, y, test_size=0.2, random_state=42)"
      ]
    },
    {
      "cell_type": "code",
      "execution_count": 7,
      "metadata": {
        "id": "WXsMQ5HmuoR1"
      },
      "outputs": [],
      "source": [
        "import numpy as np\n",
        "\n",
        "X_train_dense = np.expand_dims( X_train.toarray(), axis=-1 )\n",
        "X_test_dense = np.expand_dims( X_test.toarray(), axis=-1 )"
      ]
    },
    {
      "cell_type": "code",
      "execution_count": 8,
      "metadata": {
        "colab": {
          "base_uri": "https://localhost:8080/"
        },
        "id": "Ge7NOgY8uoKe",
        "outputId": "662ff321-1bc4-48b9-9826-e9f1d2593c78"
      },
      "outputs": [
        {
          "name": "stderr",
          "output_type": "stream",
          "text": [
            "c:\\Users\\uk246\\AppData\\Local\\Programs\\Python\\Python310\\lib\\site-packages\\keras\\engine\\data_adapter.py:1696: FutureWarning: The behavior of `series[i:j]` with an integer-dtype index is deprecated. In a future version, this will be treated as *label-based* indexing, consistent with e.g. `series[i]` lookups. To retain the old behavior, use `series.iloc[i:j]`. To get the future behavior, use `series.loc[i:j]`.\n",
            "  return t[start:end]\n"
          ]
        },
        {
          "name": "stdout",
          "output_type": "stream",
          "text": [
            "Epoch 1/10\n",
            "200/200 [==============================] - 12s 51ms/step - loss: 0.5811 - accuracy: 0.7534 - val_loss: 0.4435 - val_accuracy: 0.8062\n",
            "Epoch 2/10\n",
            "200/200 [==============================] - 11s 55ms/step - loss: 0.2700 - accuracy: 0.9167 - val_loss: 0.3958 - val_accuracy: 0.8194\n",
            "Epoch 3/10\n",
            "200/200 [==============================] - 10s 50ms/step - loss: 0.1188 - accuracy: 0.9742 - val_loss: 0.4058 - val_accuracy: 0.8175\n",
            "Epoch 4/10\n",
            "200/200 [==============================] - 10s 48ms/step - loss: 0.0599 - accuracy: 0.9898 - val_loss: 0.4296 - val_accuracy: 0.8181\n",
            "Epoch 5/10\n",
            "200/200 [==============================] - 10s 48ms/step - loss: 0.0346 - accuracy: 0.9958 - val_loss: 0.4601 - val_accuracy: 0.8131\n",
            "Epoch 6/10\n",
            "200/200 [==============================] - 10s 52ms/step - loss: 0.0225 - accuracy: 0.9970 - val_loss: 0.4826 - val_accuracy: 0.8094\n",
            "Epoch 7/10\n",
            "200/200 [==============================] - 10s 49ms/step - loss: 0.0159 - accuracy: 0.9980 - val_loss: 0.5040 - val_accuracy: 0.8094\n",
            "Epoch 8/10\n",
            "200/200 [==============================] - 10s 48ms/step - loss: 0.0122 - accuracy: 0.9981 - val_loss: 0.5261 - val_accuracy: 0.8081\n",
            "Epoch 9/10\n",
            "200/200 [==============================] - 11s 53ms/step - loss: 0.0098 - accuracy: 0.9983 - val_loss: 0.5440 - val_accuracy: 0.8087\n",
            "Epoch 10/10\n",
            "200/200 [==============================] - 10s 51ms/step - loss: 0.0082 - accuracy: 0.9981 - val_loss: 0.5628 - val_accuracy: 0.8087\n"
          ]
        },
        {
          "data": {
            "text/plain": [
              "<keras.callbacks.History at 0x1298d7c5930>"
            ]
          },
          "execution_count": 8,
          "metadata": {},
          "output_type": "execute_result"
        }
      ],
      "source": [
        "import tensorflow as tf\n",
        "from tensorflow.keras.models import Sequential\n",
        "from tensorflow.keras.layers import Dense, Flatten, Input\n",
        "\n",
        "# 모델 구성\n",
        "model = Sequential([\n",
        "    Input(shape=(X_train_dense.shape[1],)),\n",
        "    Dense(128, activation='relu'),\n",
        "    Dense(1, activation='sigmoid')\n",
        "])\n",
        "\n",
        "# 모델 컴파일 및 학습\n",
        "model.compile(optimizer='adam', loss='binary_crossentropy', metrics=['accuracy'])\n",
        "model.fit(X_train_dense.squeeze(), y_train, epochs = 10, batch_size = 32, validation_split = 0.2)"
      ]
    },
    {
      "cell_type": "code",
      "execution_count": 4,
      "metadata": {
        "colab": {
          "base_uri": "https://localhost:8080/"
        },
        "id": "J3je6ER4tYt_",
        "outputId": "a5b3d4ef-65f9-4ac0-a873-f7eb16a4eaf1"
      },
      "outputs": [
        {
          "name": "stdout",
          "output_type": "stream",
          "text": [
            "Requirement already satisfied: konlpy in c:\\users\\uk246\\appdata\\local\\programs\\python\\python310\\lib\\site-packages (0.6.0)\n",
            "Requirement already satisfied: JPype1>=0.7.0 in c:\\users\\uk246\\appdata\\local\\programs\\python\\python310\\lib\\site-packages (from konlpy) (1.4.0)\n",
            "Requirement already satisfied: numpy>=1.6 in c:\\users\\uk246\\appdata\\local\\programs\\python\\python310\\lib\\site-packages (from konlpy) (1.23.2)\n",
            "Requirement already satisfied: lxml>=4.1.0 in c:\\users\\uk246\\appdata\\local\\programs\\python\\python310\\lib\\site-packages (from konlpy) (4.9.2)\n"
          ]
        },
        {
          "name": "stderr",
          "output_type": "stream",
          "text": [
            "WARNING: Ignoring invalid distribution -pype1 (c:\\users\\uk246\\appdata\\local\\programs\\python\\python310\\lib\\site-packages)\n",
            "WARNING: Ignoring invalid distribution -pype1 (c:\\users\\uk246\\appdata\\local\\programs\\python\\python310\\lib\\site-packages)\n",
            "WARNING: Ignoring invalid distribution -pype1 (c:\\users\\uk246\\appdata\\local\\programs\\python\\python310\\lib\\site-packages)\n",
            "WARNING: Ignoring invalid distribution -pype1 (c:\\users\\uk246\\appdata\\local\\programs\\python\\python310\\lib\\site-packages)\n",
            "WARNING: Ignoring invalid distribution -pype1 (c:\\users\\uk246\\appdata\\local\\programs\\python\\python310\\lib\\site-packages)\n",
            "WARNING: Ignoring invalid distribution -pype1 (c:\\users\\uk246\\appdata\\local\\programs\\python\\python310\\lib\\site-packages)\n"
          ]
        }
      ],
      "source": [
        "# !pip install konlpy\n"
      ]
    },
    {
      "cell_type": "code",
      "execution_count": 20,
      "metadata": {
        "colab": {
          "base_uri": "https://localhost:8080/"
        },
        "id": "Bl6oAcdct68I",
        "outputId": "cc2e9c4d-ad4c-4d95-e0a4-33a75a801a52"
      },
      "outputs": [
        {
          "name": "stdout",
          "output_type": "stream",
          "text": [
            "1/1 [==============================] - 0s 74ms/step\n",
            "예측 결과: [[0]]\n"
          ]
        }
      ],
      "source": [
        "test = [\"비가 오니까 약속을 취소해야 되는게 너무 싫다.\"]\n",
        "\n",
        "# 학습된 TF-IDF 벡터라이저로 테스트 데이터 변환\n",
        "X_test_sample = vectorizer.transform(test)\n",
        "X_test_sample_dense = X_test_sample.toarray()\n",
        "\n",
        "# 모델을 사용하여 예측 수행\n",
        "predictions = model.predict(X_test_sample_dense)\n",
        "\n",
        "# 예측 결과 출력 (긍정: 1, 부정: 0)\n",
        "print(\"예측 결과:\", np.round(predictions).astype(int))"
      ]
    },
    {
      "cell_type": "code",
      "execution_count": null,
      "metadata": {
        "colab": {
          "base_uri": "https://localhost:8080/",
          "height": 1000
        },
        "id": "0EClS3xeynli",
        "outputId": "adf9c07d-0f42-43fb-8ea0-f6b6f406a80d"
      },
      "outputs": [],
      "source": [
        "# model.save('기본 DNN 적용모델.h5')"
      ]
    }
  ],
  "metadata": {
    "accelerator": "GPU",
    "colab": {
      "provenance": []
    },
    "gpuClass": "standard",
    "kernelspec": {
      "display_name": "Python 3",
      "name": "python3"
    },
    "language_info": {
      "codemirror_mode": {
        "name": "ipython",
        "version": 3
      },
      "file_extension": ".py",
      "mimetype": "text/x-python",
      "name": "python",
      "nbconvert_exporter": "python",
      "pygments_lexer": "ipython3",
      "version": "3.10.6"
    }
  },
  "nbformat": 4,
  "nbformat_minor": 0
}
