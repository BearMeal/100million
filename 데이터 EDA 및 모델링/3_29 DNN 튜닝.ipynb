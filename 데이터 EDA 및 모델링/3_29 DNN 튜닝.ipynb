{
  "cells": [
    {
      "cell_type": "markdown",
      "metadata": {
        "id": "Z5iox9kcqpD1"
      },
      "source": [
        "진호님이 일단 실행되게끔 만들어 본것"
      ]
    },
    {
      "cell_type": "code",
      "execution_count": 40,
      "metadata": {
        "colab": {
          "base_uri": "https://localhost:8080/"
        },
        "id": "glBvON29q6q7",
        "outputId": "808af61f-df45-4bfd-e53b-ab32fd5d3410"
      },
      "outputs": [],
      "source": [
        "# !pip install konlpy"
      ]
    },
    {
      "cell_type": "code",
      "execution_count": 41,
      "metadata": {
        "id": "FlJcCm9HtWrN"
      },
      "outputs": [],
      "source": [
        "# 3_21 모델학습 후 예측한 결과가 심통치않아 새로 전처리 해보기로 하였다.\n",
        "# 벡터를 이용한 모델을 생성해서 문자열 값을 리턴 받아보자.\n",
        "from tensorflow.keras.models import *\n",
        "from tensorflow.keras.layers import *\n",
        "import tensorflow as tf\n",
        "import numpy as np\n",
        "\n",
        "#1. Naver Sentiment Movie Corpus v1.0 다운로드\n",
        "train_file = tf.keras.utils.get_file('train.txt', 'https://raw.githubusercontent.com/e9t/nsmc/master/ratings_train.txt')\n",
        "test_file = tf.keras.utils.get_file( 'test.txt',  'https://raw.githubusercontent.com/e9t/nsmc/master/ratings_test.txt')\n",
        "\n",
        "#파일을 이진모드로 읽어온다. 디코드는 utf8로한다.\n",
        "train_text = open(train_file,'rb').read().decode(encoding='utf-8')\n",
        "test_text = open(test_file,'rb').read().decode(encoding='utf-8')\n",
        "\n"
      ]
    },
    {
      "cell_type": "code",
      "execution_count": 42,
      "metadata": {
        "id": "DUl7FhWgqpD6"
      },
      "outputs": [],
      "source": [
        "import pandas as pd\n",
        "#x,y값을 추출후 데이터프레임에 넣는다.\n",
        "# X 값 추출 피쳐feature, y값 추출target \n",
        "\n",
        "df_train = pd.DataFrame({\n",
        "    'feature':[row.split('\\t')[1] for row in train_text.split('\\n')[1:] if row.count('\\t')>0],\n",
        "    'target': [ int(row.split('\\t')[2]) for row in train_text.split('\\n')[1:] if row.count('\\t')>0]\n",
        "})\n"
      ]
    },
    {
      "cell_type": "code",
      "execution_count": 43,
      "metadata": {
        "id": "mBR183hBxXp8"
      },
      "outputs": [],
      "source": [
        "# df_train.iloc[:,0]\n",
        "from konlpy.tag import Okt\n",
        "\n",
        "#문장을 토큰화한것만 따로 저장\n",
        "# tokenized_data =[]\n",
        "\n",
        "# for i in df_train.iloc[:,0]:\n",
        "#     tokenized_data.append(Okt().morphs( i ))"
      ]
    },
    {
      "cell_type": "code",
      "execution_count": 44,
      "metadata": {
        "id": "ISZRI5jd1ViB"
      },
      "outputs": [],
      "source": [
        "import pickle\n",
        "\n",
        "#토근화된 데이터를 저장하였음\n",
        "# with open('tokenized_data.pkl','wb') as f:\n",
        "#     pickle.dump(tokenized_data,f)\n",
        "\n",
        "#토큰화된 데이터 불러오기\n",
        "# with open('tokenized_data.pkl','rb') as f:\n",
        "#     tokenized_data_loaded = pickle.load(f)\n",
        "\n",
        "# tokenized_data_loaded"
      ]
    },
    {
      "cell_type": "code",
      "execution_count": 46,
      "metadata": {
        "colab": {
          "base_uri": "https://localhost:8080/"
        },
        "id": "Sb3u5TZqqpD7",
        "outputId": "bc835d99-5d1e-4fe3-e2fb-00b681fb8624"
      },
      "outputs": [],
      "source": [
        "#라벨별로 분리해본것\n",
        "bad = df_train[df_train.iloc[:,1]==0]\n",
        "good = df_train[df_train.iloc[:,1]==1]\n",
        "\n",
        "\n",
        "df_train = df_train[::4]\n",
        "\n",
        "from sklearn.feature_extraction.text import TfidfVectorizer\n",
        "from konlpy.tag import Okt\n",
        "\n",
        "vectorizer=TfidfVectorizer(tokenizer=Okt().morphs)\n",
        "X = vectorizer.fit_transform( df_train.iloc[:,0])\n",
        "y = df_train.iloc[:,1]\n"
      ]
    },
    {
      "cell_type": "code",
      "execution_count": 83,
      "metadata": {
        "colab": {
          "base_uri": "https://localhost:8080/"
        },
        "id": "eUU3nDwiFMxz",
        "outputId": "975a9dab-bb12-4ac6-db51-3a357ed28ae2"
      },
      "outputs": [
        {
          "data": {
            "text/plain": [
              "(37500, 2)"
            ]
          },
          "execution_count": 83,
          "metadata": {},
          "output_type": "execute_result"
        }
      ],
      "source": [
        "df_train[df_train.iloc[:,1]==0]  #18678 \n",
        "df_train[df_train.iloc[:,1]==1]  #18822\n",
        "df_train.shape"
      ]
    },
    {
      "cell_type": "code",
      "execution_count": 48,
      "metadata": {
        "id": "HNlUM_Fa4WPX"
      },
      "outputs": [],
      "source": [
        "# 토큰화하고 빈도수(tfidf)에 기반한 벡터표현이 생성된 X를 따로저장\n",
        "from scipy.sparse import save_npz ,load_npz\n",
        "\n",
        "#vectorizer.fit_transform한것을 희소행렬로로 저장\n",
        "# save_npz('vectorized_data.npz', X)\n",
        "\n",
        "#저장된 희소행렬을 불러오기\n",
        "# X_loaded = load_npz('vectorized_data.npz')\n",
        "\n",
        "#이렇게 불러온 X_loaded는 바로 모델학습에 사용가능\n"
      ]
    },
    {
      "cell_type": "code",
      "execution_count": 49,
      "metadata": {
        "id": "WXsMQ5HmuoR1"
      },
      "outputs": [],
      "source": [
        "import numpy as np\n",
        "X_train_dense = np.expand_dims( X.toarray(), axis=-1 )\n",
        "# X_train_dense.shape\n",
        "# X_loaded.shape[1]\n",
        "# X_loaded.toarray().shape[1]"
      ]
    },
    {
      "cell_type": "code",
      "execution_count": 104,
      "metadata": {
        "id": "Ge7NOgY8uoKe"
      },
      "outputs": [
        {
          "name": "stdout",
          "output_type": "stream",
          "text": [
            "Epoch 1/10\n",
            "1313/1313 [==============================] - 16s 10ms/step - loss: 0.5540 - accuracy: 0.6929 - val_loss: 0.4232 - val_accuracy: 0.8061\n",
            "Epoch 2/10\n",
            "1313/1313 [==============================] - 11s 8ms/step - loss: 0.4514 - accuracy: 0.7635 - val_loss: 0.3957 - val_accuracy: 0.8207\n",
            "Epoch 3/10\n",
            "1313/1313 [==============================] - 12s 9ms/step - loss: 0.3995 - accuracy: 0.7956 - val_loss: 0.3923 - val_accuracy: 0.8203\n",
            "Epoch 4/10\n",
            "1313/1313 [==============================] - 11s 9ms/step - loss: 0.3699 - accuracy: 0.8093 - val_loss: 0.3990 - val_accuracy: 0.8155\n",
            "Epoch 5/10\n",
            "1313/1313 [==============================] - 11s 8ms/step - loss: 0.3484 - accuracy: 0.8202 - val_loss: 0.4058 - val_accuracy: 0.8202\n",
            "Epoch 6/10\n",
            "1313/1313 [==============================] - 11s 9ms/step - loss: 0.3330 - accuracy: 0.8279 - val_loss: 0.4146 - val_accuracy: 0.8172\n",
            "Epoch 7/10\n",
            "1313/1313 [==============================] - 11s 9ms/step - loss: 0.3185 - accuracy: 0.8337 - val_loss: 0.4246 - val_accuracy: 0.8174\n",
            "Epoch 8/10\n",
            "1313/1313 [==============================] - 11s 9ms/step - loss: 0.3090 - accuracy: 0.8347 - val_loss: 0.4389 - val_accuracy: 0.8145\n",
            "Epoch 9/10\n",
            "1313/1313 [==============================] - 10s 8ms/step - loss: 0.3012 - accuracy: 0.8407 - val_loss: 0.4524 - val_accuracy: 0.8137\n",
            "Epoch 10/10\n",
            "1313/1313 [==============================] - 11s 8ms/step - loss: 0.2967 - accuracy: 0.8428 - val_loss: 0.4514 - val_accuracy: 0.8114\n"
          ]
        },
        {
          "data": {
            "text/plain": [
              "<keras.callbacks.History at 0x1ea18811180>"
            ]
          },
          "execution_count": 104,
          "metadata": {},
          "output_type": "execute_result"
        }
      ],
      "source": [
        "import tensorflow as tf\n",
        "from tensorflow.keras.models import Sequential\n",
        "from tensorflow.keras.layers import Dense, BatchNormalization , Input, Dropout\n",
        "# from tensorflow.keras import Input\n",
        "# 모델 구성deep nueral network\n",
        "# input_layer = Input(shape=(X_loaded.shape[1],), sparse=True)\n",
        "\n",
        "model = Sequential([\n",
        "    # input_layer,\n",
        "    Input(shape=(X_train_dense.shape[1],)),\n",
        "    Dense(3, activation='relu'),\n",
        "    BatchNormalization(),\n",
        "    Dropout(0.6),\n",
        "    Dense(1, activation='sigmoid')\n",
        "])\n",
        "\n",
        "# 모델 컴파일 및 학습\n",
        "model.compile(optimizer='adam', loss='binary_crossentropy', metrics=['accuracy'])\n",
        "\n",
        "# model.fit(X.toarray(), y, epochs = 10, batch_size = 500, validation_split=0.2)  #0.8417\n",
        "model.fit(X.toarray(), y, epochs = 10, batch_size = 20, validation_split=0.3)  #0.8417"
      ]
    },
    {
      "cell_type": "code",
      "execution_count": 107,
      "metadata": {
        "id": "Bl6oAcdct68I"
      },
      "outputs": [
        {
          "name": "stdout",
          "output_type": "stream",
          "text": [
            "1/1 [==============================] - 0s 49ms/step\n",
            "[[0.01700829]]\n",
            "예측 결과: [[0]]\n"
          ]
        }
      ],
      "source": [
        "test = ['정말 별로 입니다. 이게뭐니']\n",
        "\n",
        "# 학습된 TF-IDF 벡터라이저로 테스트 데이터 변환\n",
        "X_test_sample = vectorizer.transform(test)\n",
        "X_test_sample_dense = X_test_sample.toarray()\n",
        "\n",
        "# 모델을 사용하여 예측 수행\n",
        "predictions = model.predict(X_test_sample_dense)\n",
        "print(predictions)\n",
        "\n",
        "# 예측 결과 출력 (긍정: 1, 부정: 0)\n",
        "print(\"예측 결과:\", np.round( predictions ).astype(int))"
      ]
    },
    {
      "cell_type": "code",
      "execution_count": 25,
      "metadata": {
        "id": "0EClS3xeynli"
      },
      "outputs": [],
      "source": [
        "# model.save('기본 DNN 적용모델.h5')"
      ]
    }
  ],
  "metadata": {
    "accelerator": "GPU",
    "colab": {
      "provenance": []
    },
    "gpuClass": "standard",
    "kernelspec": {
      "display_name": "Python 3",
      "name": "python3"
    },
    "language_info": {
      "codemirror_mode": {
        "name": "ipython",
        "version": 3
      },
      "file_extension": ".py",
      "mimetype": "text/x-python",
      "name": "python",
      "nbconvert_exporter": "python",
      "pygments_lexer": "ipython3",
      "version": "3.10.6"
    }
  },
  "nbformat": 4,
  "nbformat_minor": 0
}
