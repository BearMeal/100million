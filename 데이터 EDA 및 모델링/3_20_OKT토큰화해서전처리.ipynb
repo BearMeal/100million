{
  "nbformat": 4,
  "nbformat_minor": 0,
  "metadata": {
    "colab": {
      "provenance": []
    },
    "kernelspec": {
      "name": "python3",
      "display_name": "Python 3"
    },
    "language_info": {
      "name": "python"
    },
    "accelerator": "GPU",
    "gpuClass": "standard"
  },
  "cells": [
    {
      "cell_type": "code",
      "source": [
        "# 벡터를 이용한 모델을 생성해서 문자열 값을 리턴 받아보자.\n",
        "from tensorflow.keras.models import *\n",
        "from tensorflow.keras.layers import *\n",
        "import tensorflow as tf\n",
        "import numpy as np"
      ],
      "metadata": {
        "id": "Kuiyh5YqxFfu"
      },
      "execution_count": 2,
      "outputs": []
    },
    {
      "cell_type": "code",
      "source": [
        "#1. Naver Sentiment Movie Corpus v1.0 다운로드\n",
        "train_file = tf.keras.utils.get_file('train.txt', 'https://raw.githubusercontent.com/e9t/nsmc/master/ratings_train.txt')\n",
        "test_file = tf.keras.utils.get_file('test.txt', 'https://raw.githubusercontent.com/e9t/nsmc/master/ratings_test.txt')"
      ],
      "metadata": {
        "colab": {
          "base_uri": "https://localhost:8080/"
        },
        "id": "GGD740JTxJzE",
        "outputId": "57432434-0e7f-453d-be58-bf7df2904d80"
      },
      "execution_count": 3,
      "outputs": [
        {
          "output_type": "stream",
          "name": "stdout",
          "text": [
            "Downloading data from https://raw.githubusercontent.com/e9t/nsmc/master/ratings_train.txt\n",
            "14628807/14628807 [==============================] - 0s 0us/step\n",
            "Downloading data from https://raw.githubusercontent.com/e9t/nsmc/master/ratings_test.txt\n",
            "4893335/4893335 [==============================] - 0s 0us/step\n"
          ]
        }
      ]
    },
    {
      "cell_type": "code",
      "source": [
        "#파일을 이진모드로 읽어온다. 디코드는 utf8로한다.\n",
        "text_train = open(train_file,'rb').read().decode(encoding='utf-8')\n",
        "text_test = open(test_file,'rb').read().decode(encoding='utf-8')"
      ],
      "metadata": {
        "id": "3J4s9dJmxOBR"
      },
      "execution_count": 4,
      "outputs": []
    },
    {
      "cell_type": "code",
      "source": [
        "print(text_train)"
      ],
      "metadata": {
        "colab": {
          "base_uri": "https://localhost:8080/"
        },
        "id": "y_g03jnQxOb8",
        "outputId": "788fbbee-f013-4e78-da64-61b642c00597"
      },
      "execution_count": 5,
      "outputs": [
        {
          "output_type": "stream",
          "name": "stderr",
          "text": [
            "IOPub data rate exceeded.\n",
            "The notebook server will temporarily stop sending output\n",
            "to the client in order to avoid crashing it.\n",
            "To change this limit, set the config variable\n",
            "`--NotebookApp.iopub_data_rate_limit`.\n",
            "\n",
            "Current values:\n",
            "NotebookApp.iopub_data_rate_limit=1000000.0 (bytes/sec)\n",
            "NotebookApp.rate_limit_window=3.0 (secs)\n",
            "\n"
          ]
        }
      ]
    },
    {
      "cell_type": "code",
      "source": [
        "# train y값 label을 먼저 뽑는다. \n",
        "a=text_train[:500].split('\\n')[1:]\n",
        "#줄마다 나눠서 a에 넣는다.\n",
        "print(a[:5])\n",
        "print(a[3].count('\\t'))\n",
        "# a[5]\n"
      ],
      "metadata": {
        "colab": {
          "base_uri": "https://localhost:8080/"
        },
        "id": "xMCZi4F5xO5t",
        "outputId": "5f9d782d-5110-4b91-918d-32e8d0accdf8"
      },
      "execution_count": 6,
      "outputs": [
        {
          "output_type": "stream",
          "name": "stdout",
          "text": [
            "['9976970\\t아 더빙.. 진짜 짜증나네요 목소리\\t0', '3819312\\t흠...포스터보고 초딩영화줄....오버연기조차 가볍지 않구나\\t1', '10265843\\t너무재밓었다그래서보는것을추천한다\\t0', '9045019\\t교도소 이야기구먼 ..솔직히 재미는 없다..평점 조정\\t0', '6483659\\t사이몬페그의 익살스런 연기가 돋보였던 영화!스파이더맨에서 늙어보이기만 했던 커스틴 던스트가 너무나도 이뻐보였다\\t1']\n",
            "2\n"
          ]
        }
      ]
    },
    {
      "cell_type": "code",
      "source": [
        "# '9976970\\t아 더빙.. 진짜 짜증나네요 목소리\\t0'\n",
        "# '9976970', '아 더빙.. 진짜 짜증나네요 목소리', '0'\n",
        "a[0].split('\\t')[2]  # 감상평의 라벨 0= 부정,  1= 긍정"
      ],
      "metadata": {
        "colab": {
          "base_uri": "https://localhost:8080/",
          "height": 35
        },
        "id": "fmaWd3iOxO1y",
        "outputId": "08ec9f2f-25b8-448f-94d8-3cfb3949035f"
      },
      "execution_count": 7,
      "outputs": [
        {
          "output_type": "execute_result",
          "data": {
            "text/plain": [
              "'0'"
            ],
            "application/vnd.google.colaboratory.intrinsic+json": {
              "type": "string"
            }
          },
          "metadata": {},
          "execution_count": 7
        }
      ]
    },
    {
      "cell_type": "code",
      "source": [
        "# for row in text_train.split('\\n')[1:]: \n",
        "#     print(row) #여기 한줄 뽑아서 \n",
        "#     print(row.split('\\t')[2]) #\\t 로 나눠서 2번째 원소인 라벨을 뽑는다\n",
        "#     print( int(row.split('\\t')[2]) ) # int() 해서 정수형으로 바꿔준다."
      ],
      "metadata": {
        "id": "JE6KBO02xOxD"
      },
      "execution_count": null,
      "outputs": []
    },
    {
      "cell_type": "code",
      "source": [
        "# 데이터 정제 \n",
        "\n",
        "print(text_test[:200])\n",
        "\n",
        "#각 줄을 \\n으로 분리하겠다.\n",
        "#헤더를 제외하겠다. \n",
        "\n",
        "#한줄마다 \\t로 분할해서 문장과 점수로 나눈다\n",
        "#감상평은 \\t로 구분되어있음\n",
        "# [1:]으로 헤더제거\n",
        "\n",
        "#감상평의 평점만 뽑아서 정수화 행렬로 만들어줬다.\n",
        "y_train= np.array([ [int(row.split('\\t')[2])] for row in text_train.split('\\n')[1:] if row.count('\\t')>0])\n",
        "y_test= np.array([ [int(row.split('\\t')[2])] for row in text_test.split('\\n')[1:] if row.count('\\t')>0])\n",
        "print(y_train.shape) # (150000개의 평점 , 1개의 열)\n"
      ],
      "metadata": {
        "colab": {
          "base_uri": "https://localhost:8080/"
        },
        "id": "_Sjyp8_6xXxP",
        "outputId": "a53f5109-4ff3-4252-c648-59b05c8bef27"
      },
      "execution_count": 9,
      "outputs": [
        {
          "output_type": "stream",
          "name": "stdout",
          "text": [
            "id\tdocument\tlabel\n",
            "6270596\t굳 ㅋ\t1\n",
            "9274899\tGDNTOPCLASSINTHECLUB\t0\n",
            "8544678\t뭐야 이 평점들은.... 나쁘진 않지만 10점 짜리는 더더욱 아니잖아\t0\n",
            "6825595\t지루하지는 않은데 완전 막장임... 돈주고 보기에는....\t0\n",
            "6723715\t3D만 아니었어도 별 다섯 개 줬을텐데.. 왜 3D로 나와서 제 심\n",
            "(150000, 1)\n"
          ]
        }
      ]
    },
    {
      "cell_type": "code",
      "source": [
        "text_train.split('\\n')  #한줄씩 분리하고\n",
        "text_train.split('\\n')[1:]  #헤더 처리\n",
        "#row.count('\\t')>0   평점이 존재하면\n",
        "# row.split('\\t')[1]  감상평만 추출"
      ],
      "metadata": {
        "id": "T44rS7b7xYzv"
      },
      "execution_count": null,
      "outputs": []
    },
    {
      "cell_type": "code",
      "source": [
        "#X 값 추출 = 리뷰문장\n",
        "x_text_train = [ row.split('\\t')[1] for row in text_train.split('\\n')[1:] if row .count('\\t')>0  ]\n",
        "x_text_train[:3]\n"
      ],
      "metadata": {
        "colab": {
          "base_uri": "https://localhost:8080/"
        },
        "id": "U-K9J4ipxYpc",
        "outputId": "049ac143-d7de-4929-d66e-7d45be660706"
      },
      "execution_count": 12,
      "outputs": [
        {
          "output_type": "execute_result",
          "data": {
            "text/plain": [
              "['아 더빙.. 진짜 짜증나네요 목소리',\n",
              " '흠...포스터보고 초딩영화줄....오버연기조차 가볍지 않구나',\n",
              " '너무재밓었다그래서보는것을추천한다']"
            ]
          },
          "metadata": {},
          "execution_count": 12
        }
      ]
    },
    {
      "cell_type": "code",
      "source": [
        "# !pip install konlpy"
      ],
      "metadata": {
        "id": "Wwy3T5pA02lu"
      },
      "execution_count": null,
      "outputs": []
    },
    {
      "cell_type": "code",
      "source": [
        "#위에서 추출한 문장을 토큰화해볼것이다. => OKT 방법을 사용할것이다.\n",
        "from konlpy.tag import Okt\n",
        "#konlpy 패키지에있는 tag 모듈에 Okt 메서드를 불러온다.\n",
        "\n",
        "x_train_tokenized = []\n",
        "for i in x_text_train:\n",
        "    x_train_tokenized.append( Okt().morphs( i ) ) \n",
        "\n",
        "#시간이 오래걸리네 #GPU로 5분정도\n",
        "x_train_tokenized\n"
      ],
      "metadata": {
        "id": "JUY_Iu9-xYXq"
      },
      "execution_count": null,
      "outputs": []
    },
    {
      "cell_type": "code",
      "source": [
        "# 토큰화된 학습 데이터\n",
        "# x_train_tokenized[:100]\n",
        "# 나눠진 토큰들을 임베딩할것이다. \n",
        "len(x_train_tokenized)\n",
        "\n",
        "total_len = 0\n",
        "for i in x_train_tokenized:\n",
        "    total_len += len(i)\n",
        "print(total_len)  # 토큰 2,156,163 개  => 은, 는, 이, 가 이게 많이 나오면 중요 키워드인가? \n",
        "# 그렇지않다. => 그럼 제거한다\n"
      ],
      "metadata": {
        "colab": {
          "base_uri": "https://localhost:8080/"
        },
        "id": "XGay4ODr7q5-",
        "outputId": "a4a4046c-fe3d-4463-8ef3-da3d4caa194e"
      },
      "execution_count": 26,
      "outputs": [
        {
          "output_type": "stream",
          "name": "stdout",
          "text": [
            "2156163\n"
          ]
        }
      ]
    },
    {
      "cell_type": "markdown",
      "source": [
        "만약 의문문 대해서 커스텀을하고싶으면 \n"
      ],
      "metadata": {
        "id": "PRx484OO9PR_"
      }
    },
    {
      "cell_type": "code",
      "source": [
        "# Okt().morphs( '오늘 뭐먹었어?' )\n",
        "# Okt().morphs( '오늘 뭐했어?' ) #의문문에 대한 구분이 불가능 해보인다. "
      ],
      "metadata": {
        "colab": {
          "base_uri": "https://localhost:8080/"
        },
        "id": "wz6iDFKv9YQm",
        "outputId": "03137740-e11b-4785-ac11-29fae4e4ebac"
      },
      "execution_count": 20,
      "outputs": [
        {
          "output_type": "execute_result",
          "data": {
            "text/plain": [
              "['오늘', '뭐', '했어', '?']"
            ]
          },
          "metadata": {},
          "execution_count": 20
        }
      ]
    },
    {
      "cell_type": "code",
      "source": [
        "from tensorflow.keras.preprocessing.text import Tokenizer\n",
        "\n",
        "tokenizer = Tokenizer(num_words= 20000 ) #빈도가 높은것 순서대로 2만개만 다시 토큰화한다.\n",
        "#빈도수가 2만개 보다 낮은것은 그냥 0으로 처리한다.\n",
        "\n",
        "tokenizer.fit_on_texts( x_train_tokenized )\n",
        " \n",
        "\n",
        "# 토큰(texts:형태소)들을 시계열데이터로 변환한다. == 이 과정을 정수 인코딩딩이라한다.  \n",
        "sequences = tokenizer.texts_to_sequences( x_train_tokenized )\n",
        "\n",
        "#이렇게 숫자로 바뀌면 이제 컴퓨터가 처리할수있는 데이터가 된다.\n",
        "sequences\n"
      ],
      "metadata": {
        "id": "LLbhS_nO-QkR"
      },
      "execution_count": null,
      "outputs": []
    },
    {
      "cell_type": "code",
      "source": [
        "# 패딩\n",
        "from tensorflow.keras.preprocessing import pad_sequences\n",
        "X_train = pad_sequences(sequences,padding='post')  #학습데이터 완성\n",
        "y_train\n",
        "\n",
        "# [1] => 세개 공간을 만들고 싶다. = 앞에[0 0 1], post뒤에[1 0 0]"
      ],
      "metadata": {
        "id": "S0Y-arq8C8UE"
      },
      "execution_count": null,
      "outputs": []
    },
    {
      "cell_type": "code",
      "source": [
        "# 딥러닝 모델\n",
        "from tensorflow.keras import Sequential\n",
        "from tensorflow.keras.layers import Embedding, LSTM, Dense\n",
        "\n",
        "#딥러닝기반 언어(텍스트정제 => 숫자로된 시계열데이터로 들어온다 )처리모델 \n",
        "model = Sequential([\n",
        "\n",
        "])\n",
        "\n"
      ],
      "metadata": {
        "id": "1EoPdLxaEZ5z"
      },
      "execution_count": 32,
      "outputs": []
    },
    {
      "cell_type": "markdown",
      "source": [],
      "metadata": {
        "id": "ickLgOmTHQoB"
      }
    }
  ]
}