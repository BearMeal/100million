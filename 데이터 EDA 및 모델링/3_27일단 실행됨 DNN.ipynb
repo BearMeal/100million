{
  "cells": [
    {
      "attachments": {},
      "cell_type": "markdown",
      "metadata": {},
      "source": [
        "진호님이 일단 실행되게끔 만들어 본것"
      ]
    },
    {
      "cell_type": "code",
      "execution_count": 6,
      "metadata": {
        "colab": {
          "base_uri": "https://localhost:8080/"
        },
        "id": "FlJcCm9HtWrN",
        "outputId": "0c658e73-8ec1-4017-cbfe-f7e4aa637c6f"
      },
      "outputs": [
        {
          "name": "stdout",
          "output_type": "stream",
          "text": [
            "(150000, 1)\n"
          ]
        },
        {
          "name": "stderr",
          "output_type": "stream",
          "text": [
            "c:\\Users\\uk246\\AppData\\Local\\Programs\\Python\\Python310\\lib\\site-packages\\sklearn\\feature_extraction\\text.py:528: UserWarning: The parameter 'token_pattern' will not be used since 'tokenizer' is not None'\n",
            "  warnings.warn(\n"
          ]
        }
      ],
      "source": [
        "# 3_21 모델학습 후 예측한 결과가 심통치않아 새로 전처리해보기로 하였다.\n",
        "# 벡터를 이용한 모델을 생성해서 문자열 값을 리턴 받아보자.\n",
        "from tensorflow.keras.models import *\n",
        "from tensorflow.keras.layers import *\n",
        "import tensorflow as tf\n",
        "import numpy as np\n",
        "#1. Naver Sentiment Movie Corpus v1.0 다운로드\n",
        "train_file = tf.keras.utils.get_file('train.txt', 'https://raw.githubusercontent.com/e9t/nsmc/master/ratings_train.txt')\n",
        "test_file = tf.keras.utils.get_file('test.txt',  'https://raw.githubusercontent.com/e9t/nsmc/master/ratings_test.txt')\n",
        "#파일을 이진모드로 읽어온다. 디코드는 utf8로한다.\n",
        "train_text = open(train_file,'rb').read().decode(encoding='utf-8')\n",
        "test_text = open(test_file,'rb').read().decode(encoding='utf-8')\n",
        "train_text[:100]\n",
        "a= train_text.split('\\n')[1:][0]\n",
        "\n",
        "a.split('\\t')[2]\n",
        "# X 값 추출 = 리뷰문장 == 피쳐\n",
        "x_train = [ row.split('\\t')[1] for row in train_text.split('\\n')[1:] if row.count('\\t')>0]\n",
        "x_train[:3]\n",
        "#y값 추출  == target\n",
        "y_train= np.array([ [int(row.split('\\t')[2])] for row in train_text.split('\\n')[1:] if row.count('\\t')>0])\n",
        "y_test= np.array([ [int(row.split('\\t')[2])] for row in test_text.split('\\n')[1:] if row.count('\\t')>0])\n",
        "print(y_train.shape) # (150000개의 평점 , 1개의 열)\n",
        "y_train\n",
        "from konlpy.tag import Okt  #트위터에서 만든 한국어분석 메서드\n",
        "from konlpy.tag import Kkma  #서울대에서 만든거 morphs== 형태소 분석\n",
        "\n",
        "\n",
        "x_tokenized = [ ]\n",
        "for i in x_train[:100]:\n",
        "    x_tokenized.append( Okt().morphs( i ) ) \n",
        "    \n",
        "x_tokenized[:5]\n",
        "# . ! ? ;;; 은 는 이 가 => 불용어 제거\n",
        "# 불용어 빈도수가 늘어남 = 중요도 판별하는 순위가 되기 때문에\n",
        "# => TF-IDF  TF= 빈도수  IDF = 역 빈도수 \n",
        "\n",
        "# 0 부정문들만 모여있는 문서\n",
        "# 1 긍정문들만 모여있는 문서\n",
        "\n",
        "# => TF-IDF 알고리즘은 두 문서에 겹치는 단어들 동시에 많이 쓰이는 단어들은 점수를 낮게\n",
        "# => 겹치지않는 단어들은 점수를 높게 매겨준다.\n",
        "import pandas as pd\n",
        "\n",
        "x_train[:100] #1차원\n",
        "\n",
        "\n",
        "y_train[:100]  #2차원 \n",
        "\n",
        "x_df = pd.DataFrame(x_train[:10000])\n",
        "# print(x_df)\n",
        "\n",
        "y_df = pd.DataFrame(y_train[:10000])\n",
        "# print(y_df)\n",
        "\n",
        "# pd.DataFrame(x_df, y_df, columns=['x','y'], axis= 1)\n",
        "\n",
        "df = pd.concat([x_df, y_df], axis=1)\n",
        "\n",
        "# df\n",
        "# df.rename(columns={0, 0 : 'x','y'})\n",
        "# df_1= df[ (df.iloc[1:] ==0) ] \n",
        "\n",
        "\n",
        "bad = df[df.iloc[:,1]==0]\n",
        "good = df[df.iloc[:,1]==1]\n",
        "\n",
        "bad\n",
        "# TF-IDF 단어 중요도 점수를 매긴다.\n",
        "\n",
        "\n",
        "# ======================\n",
        "# bad[:3]\n",
        "good[:3]\n",
        "test111=pd.concat([bad,good],axis=0) #라벨이 같이 들어온다.\n",
        "test111\n",
        "\n",
        "\n",
        "from sklearn.feature_extraction.text import TfidfVectorizer\n",
        "from konlpy.tag import Okt\n",
        "vectorizer = TfidfVectorizer( tokenizer= Okt().morphs ) # 매개변수를 조정하여 다양한 옵션을 적용할 수 있습니다.\n",
        "X = vectorizer.fit_transform(test111.iloc[:,0])\n",
        "y = test111.iloc[:,1]\n",
        "from sklearn.model_selection import train_test_split\n",
        "X_train, X_test, y_train, y_test = train_test_split(X, y, test_size=0.2, random_state=42)\n",
        "# bad_text = ''\n",
        "# for i in bad.iloc[:,0]:\n",
        "#     bad_text += i\n",
        "    \n",
        "# # print(bad_text)\n",
        "\n",
        "# good_text = ''\n",
        "# for i in good.iloc[:,0]:\n",
        "#     good_text += i\n",
        "    \n",
        "# # print(good_text)\n",
        "\n",
        "# texts =[ bad_text , good_text ]\n",
        "# texts\n",
        "\n",
        "# from konlpy.tag import Kkma\n",
        "# from sklearn.feature_extraction.text import CountVectorizer, TfidfTransformer\n",
        "\n",
        "# vectorizer = CountVectorizer(tokenizer= Kkma().morphs )\n",
        "\n",
        "# # 요쯤에 불용어 제거 들어가야할것같은 느낌 => 생략\n",
        "    \n",
        "# X = vectorizer.fit_transform( texts )\n",
        "\n",
        "# word_list = vectorizer.get_feature_names_out()\n",
        "# # word_list\n",
        "\n",
        "# # 오탈자, 잘 쓰지 않는말 같은경우는 가중치가 높아질수있다.\n",
        "# print(X.toarray())  #TF본다. 각문서에서의 빈도수를 확인한다.\n",
        "# idf = TfidfTransformer()\n",
        "# X_tfidf = idf.fit_transform( X )\n",
        "\n",
        "# print( X_tfidf.toarray( ) )\n",
        "# len(X_tfidf.toarray()[0])\n",
        "\n",
        "# 딥러닝 모델\n",
        "\n",
        "# y_train=np.array([\n",
        "#     [0],\n",
        "#     [1]\n",
        "# ])\n",
        "\n",
        "\n",
        "# X_tfidf.toarray()\n"
      ]
    },
    {
      "cell_type": "code",
      "execution_count": 7,
      "metadata": {
        "id": "WXsMQ5HmuoR1"
      },
      "outputs": [],
      "source": [
        "import numpy as np\n",
        "\n",
        "X_train_dense = np.expand_dims(X_train.toarray(), axis=-1)\n",
        "X_test_dense = np.expand_dims(X_test.toarray(), axis=-1)"
      ]
    },
    {
      "cell_type": "code",
      "execution_count": 8,
      "metadata": {
        "colab": {
          "base_uri": "https://localhost:8080/"
        },
        "id": "Ge7NOgY8uoKe",
        "outputId": "662ff321-1bc4-48b9-9826-e9f1d2593c78"
      },
      "outputs": [
        {
          "name": "stderr",
          "output_type": "stream",
          "text": [
            "c:\\Users\\uk246\\AppData\\Local\\Programs\\Python\\Python310\\lib\\site-packages\\keras\\engine\\data_adapter.py:1696: FutureWarning: The behavior of `series[i:j]` with an integer-dtype index is deprecated. In a future version, this will be treated as *label-based* indexing, consistent with e.g. `series[i]` lookups. To retain the old behavior, use `series.iloc[i:j]`. To get the future behavior, use `series.loc[i:j]`.\n",
            "  return t[start:end]\n"
          ]
        },
        {
          "name": "stdout",
          "output_type": "stream",
          "text": [
            "Epoch 1/10\n",
            "200/200 [==============================] - 12s 51ms/step - loss: 0.5811 - accuracy: 0.7534 - val_loss: 0.4435 - val_accuracy: 0.8062\n",
            "Epoch 2/10\n",
            "200/200 [==============================] - 11s 55ms/step - loss: 0.2700 - accuracy: 0.9167 - val_loss: 0.3958 - val_accuracy: 0.8194\n",
            "Epoch 3/10\n",
            "200/200 [==============================] - 10s 50ms/step - loss: 0.1188 - accuracy: 0.9742 - val_loss: 0.4058 - val_accuracy: 0.8175\n",
            "Epoch 4/10\n",
            "200/200 [==============================] - 10s 48ms/step - loss: 0.0599 - accuracy: 0.9898 - val_loss: 0.4296 - val_accuracy: 0.8181\n",
            "Epoch 5/10\n",
            "200/200 [==============================] - 10s 48ms/step - loss: 0.0346 - accuracy: 0.9958 - val_loss: 0.4601 - val_accuracy: 0.8131\n",
            "Epoch 6/10\n",
            "200/200 [==============================] - 10s 52ms/step - loss: 0.0225 - accuracy: 0.9970 - val_loss: 0.4826 - val_accuracy: 0.8094\n",
            "Epoch 7/10\n",
            "200/200 [==============================] - 10s 49ms/step - loss: 0.0159 - accuracy: 0.9980 - val_loss: 0.5040 - val_accuracy: 0.8094\n",
            "Epoch 8/10\n",
            "200/200 [==============================] - 10s 48ms/step - loss: 0.0122 - accuracy: 0.9981 - val_loss: 0.5261 - val_accuracy: 0.8081\n",
            "Epoch 9/10\n",
            "200/200 [==============================] - 11s 53ms/step - loss: 0.0098 - accuracy: 0.9983 - val_loss: 0.5440 - val_accuracy: 0.8087\n",
            "Epoch 10/10\n",
            "200/200 [==============================] - 10s 51ms/step - loss: 0.0082 - accuracy: 0.9981 - val_loss: 0.5628 - val_accuracy: 0.8087\n"
          ]
        },
        {
          "data": {
            "text/plain": [
              "<keras.callbacks.History at 0x1298d7c5930>"
            ]
          },
          "execution_count": 8,
          "metadata": {},
          "output_type": "execute_result"
        }
      ],
      "source": [
        "import tensorflow as tf\n",
        "from tensorflow.keras.models import Sequential\n",
        "from tensorflow.keras.layers import Dense, Flatten, Input\n",
        "\n",
        "# 모델 구성\n",
        "model = Sequential([\n",
        "    Input(shape=(X_train_dense.shape[1],)),\n",
        "    Dense(128, activation='relu'),\n",
        "    Dense(1, activation='sigmoid')\n",
        "])\n",
        "\n",
        "# 모델 컴파일 및 학습\n",
        "model.compile(optimizer='adam', loss='binary_crossentropy', metrics=['accuracy'])\n",
        "model.fit(X_train_dense.squeeze(), y_train, epochs=10, batch_size=32, validation_split=0.2)"
      ]
    },
    {
      "cell_type": "code",
      "execution_count": 4,
      "metadata": {
        "colab": {
          "base_uri": "https://localhost:8080/"
        },
        "id": "J3je6ER4tYt_",
        "outputId": "a5b3d4ef-65f9-4ac0-a873-f7eb16a4eaf1"
      },
      "outputs": [
        {
          "name": "stdout",
          "output_type": "stream",
          "text": [
            "Requirement already satisfied: konlpy in c:\\users\\uk246\\appdata\\local\\programs\\python\\python310\\lib\\site-packages (0.6.0)\n",
            "Requirement already satisfied: JPype1>=0.7.0 in c:\\users\\uk246\\appdata\\local\\programs\\python\\python310\\lib\\site-packages (from konlpy) (1.4.0)\n",
            "Requirement already satisfied: numpy>=1.6 in c:\\users\\uk246\\appdata\\local\\programs\\python\\python310\\lib\\site-packages (from konlpy) (1.23.2)\n",
            "Requirement already satisfied: lxml>=4.1.0 in c:\\users\\uk246\\appdata\\local\\programs\\python\\python310\\lib\\site-packages (from konlpy) (4.9.2)\n"
          ]
        },
        {
          "name": "stderr",
          "output_type": "stream",
          "text": [
            "WARNING: Ignoring invalid distribution -pype1 (c:\\users\\uk246\\appdata\\local\\programs\\python\\python310\\lib\\site-packages)\n",
            "WARNING: Ignoring invalid distribution -pype1 (c:\\users\\uk246\\appdata\\local\\programs\\python\\python310\\lib\\site-packages)\n",
            "WARNING: Ignoring invalid distribution -pype1 (c:\\users\\uk246\\appdata\\local\\programs\\python\\python310\\lib\\site-packages)\n",
            "WARNING: Ignoring invalid distribution -pype1 (c:\\users\\uk246\\appdata\\local\\programs\\python\\python310\\lib\\site-packages)\n",
            "WARNING: Ignoring invalid distribution -pype1 (c:\\users\\uk246\\appdata\\local\\programs\\python\\python310\\lib\\site-packages)\n",
            "WARNING: Ignoring invalid distribution -pype1 (c:\\users\\uk246\\appdata\\local\\programs\\python\\python310\\lib\\site-packages)\n"
          ]
        }
      ],
      "source": [
        "!pip install konlpy\n"
      ]
    },
    {
      "cell_type": "code",
      "execution_count": 20,
      "metadata": {
        "colab": {
          "base_uri": "https://localhost:8080/"
        },
        "id": "Bl6oAcdct68I",
        "outputId": "cc2e9c4d-ad4c-4d95-e0a4-33a75a801a52"
      },
      "outputs": [
        {
          "name": "stdout",
          "output_type": "stream",
          "text": [
            "1/1 [==============================] - 0s 74ms/step\n",
            "예측 결과: [[0]]\n"
          ]
        }
      ],
      "source": [
        "test = [\"비가 오니까 약속을 취소해야 되는게 너무 싫다.\"]\n",
        "\n",
        "# 테스트 데이터를 전처리 (옵션, 예: 소문자로 변환, 불용어 제거 등)\n",
        "# 여기에 전처리 코드를 추가할 수 있습니다.\n",
        "\n",
        "# 학습된 TF-IDF 벡터라이저로 테스트 데이터 변환\n",
        "X_test_sample = vectorizer.transform(test)\n",
        "X_test_sample_dense = X_test_sample.toarray()\n",
        "\n",
        "# 모델을 사용하여 예측 수행\n",
        "predictions = model.predict(X_test_sample_dense)\n",
        "\n",
        "# 예측 결과 출력 (긍정: 1, 부정: 0)\n",
        "print(\"예측 결과:\", np.round(predictions).astype(int))"
      ]
    },
    {
      "cell_type": "code",
      "execution_count": null,
      "metadata": {
        "colab": {
          "base_uri": "https://localhost:8080/",
          "height": 1000
        },
        "id": "0EClS3xeynli",
        "outputId": "adf9c07d-0f42-43fb-8ea0-f6b6f406a80d"
      },
      "outputs": [],
      "source": [
        "model.save('기본 DNN 적용모델.h5')"
      ]
    }
  ],
  "metadata": {
    "accelerator": "GPU",
    "colab": {
      "provenance": []
    },
    "gpuClass": "standard",
    "kernelspec": {
      "display_name": "Python 3",
      "name": "python3"
    },
    "language_info": {
      "codemirror_mode": {
        "name": "ipython",
        "version": 3
      },
      "file_extension": ".py",
      "mimetype": "text/x-python",
      "name": "python",
      "nbconvert_exporter": "python",
      "pygments_lexer": "ipython3",
      "version": "3.10.6"
    }
  },
  "nbformat": 4,
  "nbformat_minor": 0
}
