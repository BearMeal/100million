{
 "cells": [
  {
   "cell_type": "code",
   "execution_count": 26,
   "metadata": {},
   "outputs": [],
   "source": [
    "# 벡터를 이용한 모델을 생성해서 문자열 값을 리턴 받아보자.\n",
    "from tensorflow.keras.models import *\n",
    "from tensorflow.keras.layers import *\n",
    "import tensorflow as tf\n",
    "import numpy as np\n",
    "import pandas as pd\n",
    "\n",
    "with open('./데이터만 일단 모아둠/SentiWord_Dict.txt', 'r', encoding='utf-8') as f:\n",
    "    text = f.read()\n",
    "\n",
    "#x,y값을 추출후 데이터프레임에 넣는다.\n",
    "# X 값 추출 피쳐feature, y값 추출 target\n",
    "df_train = pd.DataFrame({\n",
    "    'feature': [line.split('\\t')[0] for line in text.split('\\n') if len(line.split('\\t')) >= 2],\n",
    "    'target': [int(line.split('\\t')[1]) for line in text.split('\\n') if len(line.split('\\t')) >= 2]\n",
    "})\n"
   ]
  },
  {
   "cell_type": "code",
   "execution_count": 27,
   "metadata": {},
   "outputs": [
    {
     "data": {
      "text/html": [
       "<div>\n",
       "<style scoped>\n",
       "    .dataframe tbody tr th:only-of-type {\n",
       "        vertical-align: middle;\n",
       "    }\n",
       "\n",
       "    .dataframe tbody tr th {\n",
       "        vertical-align: top;\n",
       "    }\n",
       "\n",
       "    .dataframe thead th {\n",
       "        text-align: right;\n",
       "    }\n",
       "</style>\n",
       "<table border=\"1\" class=\"dataframe\">\n",
       "  <thead>\n",
       "    <tr style=\"text-align: right;\">\n",
       "      <th></th>\n",
       "      <th>feature</th>\n",
       "      <th>target</th>\n",
       "    </tr>\n",
       "  </thead>\n",
       "  <tbody>\n",
       "    <tr>\n",
       "      <th>0</th>\n",
       "      <td>(-;</td>\n",
       "      <td>1</td>\n",
       "    </tr>\n",
       "    <tr>\n",
       "      <th>1</th>\n",
       "      <td>(;_;)</td>\n",
       "      <td>-1</td>\n",
       "    </tr>\n",
       "    <tr>\n",
       "      <th>2</th>\n",
       "      <td>(^^)</td>\n",
       "      <td>1</td>\n",
       "    </tr>\n",
       "    <tr>\n",
       "      <th>3</th>\n",
       "      <td>(^-^)</td>\n",
       "      <td>1</td>\n",
       "    </tr>\n",
       "    <tr>\n",
       "      <th>4</th>\n",
       "      <td>(^^*</td>\n",
       "      <td>1</td>\n",
       "    </tr>\n",
       "    <tr>\n",
       "      <th>...</th>\n",
       "      <td>...</td>\n",
       "      <td>...</td>\n",
       "    </tr>\n",
       "    <tr>\n",
       "      <th>14851</th>\n",
       "      <td>내팽개치다</td>\n",
       "      <td>-2</td>\n",
       "    </tr>\n",
       "    <tr>\n",
       "      <th>14852</th>\n",
       "      <td>횡령</td>\n",
       "      <td>-2</td>\n",
       "    </tr>\n",
       "    <tr>\n",
       "      <th>14853</th>\n",
       "      <td>불안증</td>\n",
       "      <td>-2</td>\n",
       "    </tr>\n",
       "    <tr>\n",
       "      <th>14854</th>\n",
       "      <td>어쩔티비</td>\n",
       "      <td>-1</td>\n",
       "    </tr>\n",
       "    <tr>\n",
       "      <th>14855</th>\n",
       "      <td>?</td>\n",
       "      <td>1</td>\n",
       "    </tr>\n",
       "  </tbody>\n",
       "</table>\n",
       "<p>14856 rows × 2 columns</p>\n",
       "</div>"
      ],
      "text/plain": [
       "      feature  target\n",
       "0         (-;       1\n",
       "1       (;_;)      -1\n",
       "2        (^^)       1\n",
       "3       (^-^)       1\n",
       "4        (^^*       1\n",
       "...       ...     ...\n",
       "14851   내팽개치다      -2\n",
       "14852      횡령      -2\n",
       "14853     불안증      -2\n",
       "14854    어쩔티비      -1\n",
       "14855       ?       1\n",
       "\n",
       "[14856 rows x 2 columns]"
      ]
     },
     "execution_count": 27,
     "metadata": {},
     "output_type": "execute_result"
    }
   ],
   "source": [
    "df_train  #14856 rows × 2 columns"
   ]
  },
  {
   "cell_type": "code",
   "execution_count": 30,
   "metadata": {},
   "outputs": [
    {
     "data": {
      "text/html": [
       "<div>\n",
       "<style scoped>\n",
       "    .dataframe tbody tr th:only-of-type {\n",
       "        vertical-align: middle;\n",
       "    }\n",
       "\n",
       "    .dataframe tbody tr th {\n",
       "        vertical-align: top;\n",
       "    }\n",
       "\n",
       "    .dataframe thead th {\n",
       "        text-align: right;\n",
       "    }\n",
       "</style>\n",
       "<table border=\"1\" class=\"dataframe\">\n",
       "  <thead>\n",
       "    <tr style=\"text-align: right;\">\n",
       "      <th></th>\n",
       "      <th>feature</th>\n",
       "      <th>target</th>\n",
       "    </tr>\n",
       "  </thead>\n",
       "  <tbody>\n",
       "    <tr>\n",
       "      <th>0</th>\n",
       "      <td>(-;</td>\n",
       "      <td>1</td>\n",
       "    </tr>\n",
       "    <tr>\n",
       "      <th>1</th>\n",
       "      <td>(;_;)</td>\n",
       "      <td>-1</td>\n",
       "    </tr>\n",
       "    <tr>\n",
       "      <th>2</th>\n",
       "      <td>(^^)</td>\n",
       "      <td>1</td>\n",
       "    </tr>\n",
       "    <tr>\n",
       "      <th>3</th>\n",
       "      <td>(^-^)</td>\n",
       "      <td>1</td>\n",
       "    </tr>\n",
       "    <tr>\n",
       "      <th>4</th>\n",
       "      <td>(^^*</td>\n",
       "      <td>1</td>\n",
       "    </tr>\n",
       "    <tr>\n",
       "      <th>...</th>\n",
       "      <td>...</td>\n",
       "      <td>...</td>\n",
       "    </tr>\n",
       "    <tr>\n",
       "      <th>14851</th>\n",
       "      <td>내팽개치다</td>\n",
       "      <td>-2</td>\n",
       "    </tr>\n",
       "    <tr>\n",
       "      <th>14852</th>\n",
       "      <td>횡령</td>\n",
       "      <td>-2</td>\n",
       "    </tr>\n",
       "    <tr>\n",
       "      <th>14853</th>\n",
       "      <td>불안증</td>\n",
       "      <td>-2</td>\n",
       "    </tr>\n",
       "    <tr>\n",
       "      <th>14854</th>\n",
       "      <td>어쩔티비</td>\n",
       "      <td>-1</td>\n",
       "    </tr>\n",
       "    <tr>\n",
       "      <th>14855</th>\n",
       "      <td>?</td>\n",
       "      <td>1</td>\n",
       "    </tr>\n",
       "  </tbody>\n",
       "</table>\n",
       "<p>14855 rows × 2 columns</p>\n",
       "</div>"
      ],
      "text/plain": [
       "      feature  target\n",
       "0         (-;       1\n",
       "1       (;_;)      -1\n",
       "2        (^^)       1\n",
       "3       (^-^)       1\n",
       "4        (^^*       1\n",
       "...       ...     ...\n",
       "14851   내팽개치다      -2\n",
       "14852      횡령      -2\n",
       "14853     불안증      -2\n",
       "14854    어쩔티비      -1\n",
       "14855       ?       1\n",
       "\n",
       "[14855 rows x 2 columns]"
      ]
     },
     "execution_count": 30,
     "metadata": {},
     "output_type": "execute_result"
    }
   ],
   "source": [
    "#널값 제거\n",
    "df_train[df_train['feature'].isnull()].count()\n",
    "df_train #14856 rows × 2 columns\n",
    "\n",
    "#중복값이 있는 줄 제거 => 하나 제거된듯\n",
    "df_train.drop_duplicates()  #14855 rows × 2 columns"
   ]
  },
  {
   "cell_type": "code",
   "execution_count": 31,
   "metadata": {},
   "outputs": [
    {
     "data": {
      "text/plain": [
       "-1    5031\n",
       "-2    4799\n",
       " 2    2603\n",
       " 1    2269\n",
       " 0     154\n",
       "Name: target, dtype: int64"
      ]
     },
     "execution_count": 31,
     "metadata": {},
     "output_type": "execute_result"
    }
   ],
   "source": [
    "df_train['target'].value_counts()\n",
    "#데이터가 불균형하다."
   ]
  },
  {
   "cell_type": "code",
   "execution_count": 32,
   "metadata": {},
   "outputs": [],
   "source": [
    "# print(text)"
   ]
  },
  {
   "cell_type": "code",
   "execution_count": 33,
   "metadata": {},
   "outputs": [],
   "source": [
    "import pandas as pd\n",
    "from sklearn.preprocessing import LabelEncoder \n",
    "\n",
    "#LabelEncoder 객체를 생성\n",
    "label_encoder = LabelEncoder()\n",
    "\n",
    "#타겟 변수를 인코딩\n",
    "encoded_target = label_encoder.fit_transform(df_train['target'])\n",
    "\n",
    "#인코딩된 타겟 변수를 원래 데이터프레임에 추가하거나 교체합니다.\n",
    "df_train['encoded_target'] = encoded_target\n",
    "\n",
    "#인코딩된 라벨을 다시 점수값으로 되돌리는 코드\n",
    "decoded_target = label_encoder.inverse_transform(encoded_target)\n",
    "\n",
    "# 라벨별로 분류\n",
    "very_bad = df_train[df_train['target'] == -2]\n",
    "bad   =  df_train[df_train['target'] == -1]\n",
    "soso = df_train[df_train['target'] == 0]\n",
    "good  = df_train[df_train['target'] == 1]\n",
    "very_good = df_train[df_train['target'] == 2]"
   ]
  },
  {
   "cell_type": "code",
   "execution_count": 35,
   "metadata": {},
   "outputs": [
    {
     "data": {
      "text/plain": [
       "1    5031\n",
       "0    4799\n",
       "4    2603\n",
       "3    2269\n",
       "2     154\n",
       "Name: encoded_target, dtype: int64"
      ]
     },
     "execution_count": 35,
     "metadata": {},
     "output_type": "execute_result"
    }
   ],
   "source": [
    "#인코딩된 라벨을 다시확인\n",
    "df_train['encoded_target'].value_counts()\n"
   ]
  },
  {
   "cell_type": "code",
   "execution_count": 36,
   "metadata": {},
   "outputs": [
    {
     "data": {
      "text/html": [
       "<div>\n",
       "<style scoped>\n",
       "    .dataframe tbody tr th:only-of-type {\n",
       "        vertical-align: middle;\n",
       "    }\n",
       "\n",
       "    .dataframe tbody tr th {\n",
       "        vertical-align: top;\n",
       "    }\n",
       "\n",
       "    .dataframe thead th {\n",
       "        text-align: right;\n",
       "    }\n",
       "</style>\n",
       "<table border=\"1\" class=\"dataframe\">\n",
       "  <thead>\n",
       "    <tr style=\"text-align: right;\">\n",
       "      <th></th>\n",
       "      <th>feature</th>\n",
       "      <th>target</th>\n",
       "      <th>encoded_target</th>\n",
       "    </tr>\n",
       "  </thead>\n",
       "  <tbody>\n",
       "    <tr>\n",
       "      <th>49</th>\n",
       "      <td>가난</td>\n",
       "      <td>-2</td>\n",
       "      <td>0</td>\n",
       "    </tr>\n",
       "    <tr>\n",
       "      <th>50</th>\n",
       "      <td>가난뱅이</td>\n",
       "      <td>-2</td>\n",
       "      <td>0</td>\n",
       "    </tr>\n",
       "    <tr>\n",
       "      <th>51</th>\n",
       "      <td>가난살이</td>\n",
       "      <td>-2</td>\n",
       "      <td>0</td>\n",
       "    </tr>\n",
       "    <tr>\n",
       "      <th>52</th>\n",
       "      <td>가난살이하다</td>\n",
       "      <td>-2</td>\n",
       "      <td>0</td>\n",
       "    </tr>\n",
       "    <tr>\n",
       "      <th>53</th>\n",
       "      <td>가난설음</td>\n",
       "      <td>-2</td>\n",
       "      <td>0</td>\n",
       "    </tr>\n",
       "    <tr>\n",
       "      <th>...</th>\n",
       "      <td>...</td>\n",
       "      <td>...</td>\n",
       "      <td>...</td>\n",
       "    </tr>\n",
       "    <tr>\n",
       "      <th>14848</th>\n",
       "      <td>실점</td>\n",
       "      <td>-2</td>\n",
       "      <td>0</td>\n",
       "    </tr>\n",
       "    <tr>\n",
       "      <th>14849</th>\n",
       "      <td>오류</td>\n",
       "      <td>-2</td>\n",
       "      <td>0</td>\n",
       "    </tr>\n",
       "    <tr>\n",
       "      <th>14851</th>\n",
       "      <td>내팽개치다</td>\n",
       "      <td>-2</td>\n",
       "      <td>0</td>\n",
       "    </tr>\n",
       "    <tr>\n",
       "      <th>14852</th>\n",
       "      <td>횡령</td>\n",
       "      <td>-2</td>\n",
       "      <td>0</td>\n",
       "    </tr>\n",
       "    <tr>\n",
       "      <th>14853</th>\n",
       "      <td>불안증</td>\n",
       "      <td>-2</td>\n",
       "      <td>0</td>\n",
       "    </tr>\n",
       "  </tbody>\n",
       "</table>\n",
       "<p>4799 rows × 3 columns</p>\n",
       "</div>"
      ],
      "text/plain": [
       "      feature  target  encoded_target\n",
       "49         가난      -2               0\n",
       "50       가난뱅이      -2               0\n",
       "51       가난살이      -2               0\n",
       "52     가난살이하다      -2               0\n",
       "53       가난설음      -2               0\n",
       "...       ...     ...             ...\n",
       "14848      실점      -2               0\n",
       "14849      오류      -2               0\n",
       "14851   내팽개치다      -2               0\n",
       "14852      횡령      -2               0\n",
       "14853     불안증      -2               0\n",
       "\n",
       "[4799 rows x 3 columns]"
      ]
     },
     "execution_count": 36,
     "metadata": {},
     "output_type": "execute_result"
    }
   ],
   "source": [
    "very_bad"
   ]
  },
  {
   "cell_type": "code",
   "execution_count": 64,
   "metadata": {},
   "outputs": [
    {
     "name": "stderr",
     "output_type": "stream",
     "text": [
      "c:\\Users\\uk246\\AppData\\Local\\Programs\\Python\\Python310\\lib\\site-packages\\sklearn\\feature_extraction\\text.py:528: UserWarning: The parameter 'token_pattern' will not be used since 'tokenizer' is not None'\n",
      "  warnings.warn(\n"
     ]
    }
   ],
   "source": [
    "# 예시로 상위 10000개 데이터만 사용\n",
    "df_train=df_train[:10000]\n",
    "from sklearn.feature_extraction.text import TfidfVectorizer\n",
    "from konlpy.tag import Okt\n",
    "vectorizer=TfidfVectorizer(tokenizer=Okt().morphs)\n",
    "\n",
    "X = vectorizer.fit_transform(df_train.iloc[:,0])\n",
    "\n",
    "# Y = df_train.iloc[:,1]\n",
    "Y = df_train['encoded_target']\n"
   ]
  },
  {
   "cell_type": "code",
   "execution_count": 65,
   "metadata": {},
   "outputs": [
    {
     "name": "stdout",
     "output_type": "stream",
     "text": [
      "[[0. 1. 0. ... 0. 0. 0.]\n",
      " [0. 0. 0. ... 0. 0. 0.]\n",
      " [0. 0. 0. ... 0. 0. 0.]]\n"
     ]
    }
   ],
   "source": [
    "print(X.toarray()[:3])\n",
    "# sparse(희소) matrix(행열) => np.expand_dims(X.toarray()) dense(밀집) matrix(행렬)\n",
    "#shape의 차이다. \n",
    "# 1. != 1  아니다. 1.0000000... 인거다.\n",
    "\n",
    "#완성된 x_train\n",
    "X_train = np.expand_dims(X.toarray(),axis=-1)\n"
   ]
  },
  {
   "cell_type": "code",
   "execution_count": 67,
   "metadata": {},
   "outputs": [
    {
     "data": {
      "text/plain": [
       "(10000,)"
      ]
     },
     "execution_count": 67,
     "metadata": {},
     "output_type": "execute_result"
    }
   ],
   "source": [
    "Y  # 5개 클래스 == 다중클래스\n",
    "# 5개를 분류하는일 다중클래스 분류 문제 multi-classification \n",
    "# 두개면 0, 1 == 이진, 이진분류문제 binary-classification\n",
    "\n",
    "type( Y )  #시리즈객체\n",
    "\n",
    "# 1,  1    이렇게 되어있는 시리즈를 컴터가 못읽는다.\n",
    "# 2,  2     그래서 형태를 바꿔줄것이다.\n",
    "# 3,  3 \n",
    "# 4,  4\n",
    "\n",
    "Y.shape  #(10000,)\n",
    "\n",
    "#1차원 배열로 바꿔주었다.\n",
    "y = Y.to_numpy()\n",
    "#리스트 = 자료구조, 데이터 저장하는 구조  type= list()\n",
    "#넘파이 배열 = 수학적인 행렬, 계산을 할때 사용하는 구조 type= np.array()\n",
    "y.shape\n",
    "\n",
    "\n",
    "#타겟 라벨 데이터 차원 맞추기\n",
    "# y=y_train.to_frame()\n",
    "# y.shape\n",
    "\n",
    "# #넘파이 배열로 변환\n",
    "# y=y.to_numpy()\n"
   ]
  },
  {
   "cell_type": "code",
   "execution_count": null,
   "metadata": {},
   "outputs": [
    {
     "name": "stdout",
     "output_type": "stream",
     "text": [
      "(8000, 5794, 1)\n",
      "(10000,)\n",
      "(10000, 5794)\n"
     ]
    }
   ],
   "source": [
    "print(X_train.shape)  # 5794=> 모델의 벡터차원수를 의미\n",
    "print(y.shape)\n",
    "print(X.toarray().shape)\n",
    "\n",
    "\n",
    "# 전처리가 할것 X,Y 의 타입을 맞춰줌, 차원도 맞춰줌"
   ]
  },
  {
   "cell_type": "code",
   "execution_count": 72,
   "metadata": {},
   "outputs": [],
   "source": [
    "from sklearn.model_selection import train_test_split\n",
    "from sklearn.svm import SVC\n",
    "from sklearn.metrics import accuracy_score\n",
    "\n",
    "X_train, X_test, y_train, y_test = train_test_split(X.toarray(), y, test_size=0.2, random_state=42)\n",
    "\n",
    "svm_clf = SVC(kernel='linear')\n",
    "\n",
    "svm_clf.fit(X_train, y_train)\n",
    "\n",
    "y_pred = svm_clf.predict(X_test)\n",
    "\n",
    "accuracy = accuracy_score(y_test, y_pred)\n",
    "print(\"Accuracy:\", accuracy)\n"
   ]
  }
 ],
 "metadata": {
  "kernelspec": {
   "display_name": "Python 3",
   "language": "python",
   "name": "python3"
  },
  "language_info": {
   "codemirror_mode": {
    "name": "ipython",
    "version": 3
   },
   "file_extension": ".py",
   "mimetype": "text/x-python",
   "name": "python",
   "nbconvert_exporter": "python",
   "pygments_lexer": "ipython3",
   "version": "3.10.6"
  },
  "orig_nbformat": 4
 },
 "nbformat": 4,
 "nbformat_minor": 2
}
