{
 "cells": [
  {
   "cell_type": "code",
   "execution_count": 19,
   "metadata": {},
   "outputs": [],
   "source": [
    "from transformers import BertTokenizer\n",
    "\n",
    "tokenizer = BertTokenizer.from_pretrained(\"bert-base-multilingual-cased\")\n",
    "\n",
    "# 학습 데이터 예시\n",
    "train_texts = ['안녕하세요, 반갑습니다!', '오늘 날씨가 좋네요!']\n",
    "train_labels = [0, 1] # 레이블 예시 (이진 분류)\n",
    "\n",
    "# 토큰화 및 인코딩\n",
    "train_encodings = tokenizer(train_texts, truncation=True, padding=True, max_length=64)"
   ]
  },
  {
   "cell_type": "code",
   "execution_count": 20,
   "metadata": {},
   "outputs": [
    {
     "name": "stderr",
     "output_type": "stream",
     "text": [
      "All model checkpoint layers were used when initializing TFBertForSequenceClassification.\n",
      "\n",
      "Some layers of TFBertForSequenceClassification were not initialized from the model checkpoint at bert-base-multilingual-cased and are newly initialized: ['classifier']\n",
      "You should probably TRAIN this model on a down-stream task to be able to use it for predictions and inference.\n"
     ]
    },
    {
     "name": "stdout",
     "output_type": "stream",
     "text": [
      "Epoch 1/5\n",
      "1/1 [==============================] - 84s 84s/step - loss: 1.0153 - accuracy: 0.5000\n",
      "Epoch 2/5\n",
      "1/1 [==============================] - 3s 3s/step - loss: 0.7247 - accuracy: 0.5000\n",
      "Epoch 3/5\n",
      "1/1 [==============================] - 3s 3s/step - loss: 0.6530 - accuracy: 0.5000\n",
      "Epoch 4/5\n",
      "1/1 [==============================] - 3s 3s/step - loss: 0.5779 - accuracy: 0.0000e+00\n",
      "Epoch 5/5\n",
      "1/1 [==============================] - 3s 3s/step - loss: 0.5730 - accuracy: 0.5000\n"
     ]
    },
    {
     "data": {
      "text/plain": [
       "<keras.callbacks.History at 0x1231b219360>"
      ]
     },
     "execution_count": 20,
     "metadata": {},
     "output_type": "execute_result"
    }
   ],
   "source": [
    "import numpy as np\n",
    "import tensorflow as tf\n",
    "from transformers import TFBertForSequenceClassification\n",
    "\n",
    "bert_model  = TFBertForSequenceClassification.from_pretrained(\"bert-base-multilingual-cased\", num_labels=2)\n",
    "# 입력 데이터로 변환\n",
    "train_input_ids = np.array(train_encodings['input_ids'])\n",
    "train_attention_mask = np.array(train_encodings['attention_mask'])\n",
    "train_token_type_ids = np.array(train_encodings['token_type_ids'])\n",
    "\n",
    "# 모델 학습\n",
    "bert_model.compile(optimizer=tf.keras.optimizers.Adam(learning_rate=1e-5), loss='binary_crossentropy', metrics=['accuracy'])\n",
    "bert_model.fit([train_input_ids, train_attention_mask, train_token_type_ids], np.array(train_labels), batch_size=32, epochs=5)"
   ]
  },
  {
   "cell_type": "code",
   "execution_count": 10,
   "metadata": {},
   "outputs": [
    {
     "data": {
      "text/plain": [
       "[[101,\n",
       "  9521,\n",
       "  118741,\n",
       "  35506,\n",
       "  24982,\n",
       "  48549,\n",
       "  117,\n",
       "  9321,\n",
       "  118610,\n",
       "  119081,\n",
       "  48345,\n",
       "  106,\n",
       "  102],\n",
       " [101, 9580, 118762, 8985, 49212, 11287, 9685, 77884, 48549, 106, 102, 0, 0]]"
      ]
     },
     "execution_count": 10,
     "metadata": {},
     "output_type": "execute_result"
    }
   ],
   "source": [
    "train_encodings.input_ids"
   ]
  }
 ],
 "metadata": {
  "kernelspec": {
   "display_name": "Python 3",
   "language": "python",
   "name": "python3"
  },
  "language_info": {
   "codemirror_mode": {
    "name": "ipython",
    "version": 3
   },
   "file_extension": ".py",
   "mimetype": "text/x-python",
   "name": "python",
   "nbconvert_exporter": "python",
   "pygments_lexer": "ipython3",
   "version": "3.10.6"
  },
  "orig_nbformat": 4
 },
 "nbformat": 4,
 "nbformat_minor": 2
}
