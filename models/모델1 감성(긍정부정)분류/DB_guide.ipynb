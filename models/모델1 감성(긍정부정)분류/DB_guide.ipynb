{
 "cells": [
  {
   "cell_type": "code",
   "execution_count": 9,
   "metadata": {},
   "outputs": [],
   "source": [
    "import os\n",
    "import sys\n",
    "\n",
    "# 프로젝트 루트 경로 설정\n",
    "# 장고 myproject/settings.py옆에서 os.path.dirname(os.getcwd()) 값 복사 \n",
    "sys.path.append('../../SERVICE FOLDER/1eok/myproject')\n",
    "\n",
    "# 장고 설정 모듈 설정\n",
    "os.environ.setdefault('DJANGO_SETTINGS_MODULE', 'myproject.settings')\n",
    "\n",
    "# 장고 설정 적용\n",
    "import django\n",
    "django.setup()"
   ]
  },
  {
   "cell_type": "code",
   "execution_count": 2,
   "metadata": {},
   "outputs": [],
   "source": [
    "from DBmethods import *\n"
   ]
  },
  {
   "cell_type": "code",
   "execution_count": 3,
   "metadata": {},
   "outputs": [],
   "source": [
    "\n",
    "data = await get_all_data_kakao()"
   ]
  },
  {
   "cell_type": "code",
   "execution_count": 4,
   "metadata": {},
   "outputs": [
    {
     "name": "stdout",
     "output_type": "stream",
     "text": [
      "370\n"
     ]
    }
   ],
   "source": [
    "print(len(data))"
   ]
  },
  {
   "cell_type": "code",
   "execution_count": 7,
   "metadata": {},
   "outputs": [
    {
     "name": "stdout",
     "output_type": "stream",
     "text": [
      "이모티콘\n",
      "김하영\n"
     ]
    }
   ],
   "source": [
    "print(data[369].content)\n",
    "print(data[369].sender)\n",
    "\n",
    "data\n",
    "\n",
    "\n",
    "\n",
    "\n",
    "# print(data[0].content)\n",
    "# print(data[0].label)\n",
    "\n",
    "# type(data[0])  #myapp.models.NaverMovieData 만들어준 클래스"
   ]
  }
 ],
 "metadata": {
  "kernelspec": {
   "display_name": "myvenv",
   "language": "python",
   "name": "python3"
  },
  "language_info": {
   "codemirror_mode": {
    "name": "ipython",
    "version": 3
   },
   "file_extension": ".py",
   "mimetype": "text/x-python",
   "name": "python",
   "nbconvert_exporter": "python",
   "pygments_lexer": "ipython3",
   "version": "3.10.10"
  },
  "orig_nbformat": 4
 },
 "nbformat": 4,
 "nbformat_minor": 2
}
