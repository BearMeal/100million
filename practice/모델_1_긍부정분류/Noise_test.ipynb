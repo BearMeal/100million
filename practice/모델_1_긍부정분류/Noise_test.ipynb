{
 "cells": [
  {
   "cell_type": "code",
   "execution_count": null,
   "metadata": {},
   "outputs": [],
   "source": [
    "import numpy as np\n",
    "import matplotlib.pyplot as plt\n",
    "import tensorflow as tf\n",
    "from tensorflow.keras.layers import GRU, Dense\n",
    "from tensorflow.keras.models import Sequential"
   ]
  },
  {
   "cell_type": "code",
   "execution_count": null,
   "metadata": {},
   "outputs": [],
   "source": [
    "\n",
    "\n",
    "# 코사인파 생성 함수\n",
    "def generate_cosine_wave(samples, period, noise_std):\n",
    "    x = np.linspace(0, period * np.pi, samples)\n",
    "    y = np.cos(x) + np.random.normal(0, noise_std, samples)\n",
    "    return y\n",
    "\n",
    "# 시퀀스 데이터 생성 함수\n",
    "def create_sequences(data, sequence_length):\n",
    "    x = []\n",
    "    y = []\n",
    "    for i in range(len(data) - sequence_length):\n",
    "        x.append(data[i:i+sequence_length])\n",
    "        y.append(data[i+sequence_length])\n",
    "    return np.array(x), np.array(y)\n",
    "\n",
    "# 하이퍼파라미터\n",
    "samples = 1000\n",
    "period = 2\n",
    "noise_std = 0.1\n",
    "sequence_length = 50\n",
    "\n",
    "# 데이터 생성\n",
    "cosine_wave = generate_cosine_wave(samples, period, noise_std)\n",
    "x, y = create_sequences(cosine_wave, sequence_length)\n",
    "\n",
    "# 데이터 차원 변경\n",
    "x = x.reshape((-1, sequence_length, 1))\n",
    "\n",
    "# 모델 생성\n",
    "model = Sequential([\n",
    "    GRU(32, input_shape=(sequence_length, 1)),\n",
    "    Dense(1)\n",
    "])\n",
    "\n",
    "# 모델 컴파일\n",
    "model.compile(optimizer='adam', loss='mse')\n",
    "\n",
    "# 모델 학습\n",
    "model.fit(x, y, epochs=10, batch_size=32)\n",
    "\n",
    "# 예측\n",
    "predictions = model.predict(x)\n",
    "\n",
    "# 결과 시각화\n",
    "plt.plot(cosine_wave[sequence_length:], label='Original Cosine Wave')\n",
    "plt.plot(predictions, label='Predicted Cosine Wave')\n",
    "plt.legend()\n",
    "plt.show()"
   ]
  }
 ],
 "metadata": {
  "language_info": {
   "name": "python"
  },
  "orig_nbformat": 4
 },
 "nbformat": 4,
 "nbformat_minor": 2
}
