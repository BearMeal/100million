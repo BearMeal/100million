{
 "cells": [
  {
   "cell_type": "code",
   "execution_count": 2,
   "metadata": {},
   "outputs": [
    {
     "name": "stdout",
     "output_type": "stream",
     "text": [
      "Collecting openpyxl\n",
      "  Downloading openpyxl-3.1.2-py2.py3-none-any.whl (249 kB)\n",
      "     -------------------------------------- 250.0/250.0 kB 7.7 MB/s eta 0:00:00\n",
      "Collecting et-xmlfile\n",
      "  Downloading et_xmlfile-1.1.0-py3-none-any.whl (4.7 kB)\n",
      "Installing collected packages: et-xmlfile, openpyxl\n",
      "Successfully installed et-xmlfile-1.1.0 openpyxl-3.1.2\n"
     ]
    },
    {
     "name": "stderr",
     "output_type": "stream",
     "text": [
      "WARNING: Ignoring invalid distribution -pype1 (c:\\users\\uk246\\appdata\\local\\programs\\python\\python310\\lib\\site-packages)\n",
      "WARNING: Ignoring invalid distribution -pype1 (c:\\users\\uk246\\appdata\\local\\programs\\python\\python310\\lib\\site-packages)\n",
      "WARNING: Ignoring invalid distribution -pype1 (c:\\users\\uk246\\appdata\\local\\programs\\python\\python310\\lib\\site-packages)\n",
      "WARNING: Ignoring invalid distribution -pype1 (c:\\users\\uk246\\appdata\\local\\programs\\python\\python310\\lib\\site-packages)\n",
      "WARNING: Ignoring invalid distribution -pype1 (c:\\users\\uk246\\appdata\\local\\programs\\python\\python310\\lib\\site-packages)\n",
      "WARNING: Ignoring invalid distribution -pype1 (c:\\users\\uk246\\appdata\\local\\programs\\python\\python310\\lib\\site-packages)\n",
      "WARNING: Ignoring invalid distribution -pype1 (c:\\users\\uk246\\appdata\\local\\programs\\python\\python310\\lib\\site-packages)\n",
      "WARNING: Ignoring invalid distribution -pype1 (c:\\users\\uk246\\appdata\\local\\programs\\python\\python310\\lib\\site-packages)\n"
     ]
    }
   ],
   "source": [
    "!pip install openpyxl"
   ]
  },
  {
   "cell_type": "code",
   "execution_count": 3,
   "metadata": {},
   "outputs": [
    {
     "data": {
      "text/html": [
       "<div>\n",
       "<style scoped>\n",
       "    .dataframe tbody tr th:only-of-type {\n",
       "        vertical-align: middle;\n",
       "    }\n",
       "\n",
       "    .dataframe tbody tr th {\n",
       "        vertical-align: top;\n",
       "    }\n",
       "\n",
       "    .dataframe thead th {\n",
       "        text-align: right;\n",
       "    }\n",
       "</style>\n",
       "<table border=\"1\" class=\"dataframe\">\n",
       "  <thead>\n",
       "    <tr style=\"text-align: right;\">\n",
       "      <th></th>\n",
       "      <th>일련번호</th>\n",
       "      <th>단어</th>\n",
       "      <th>감정범주</th>\n",
       "      <th>빈도</th>\n",
       "      <th>감정정도M</th>\n",
       "      <th>감정정도STD</th>\n",
       "    </tr>\n",
       "  </thead>\n",
       "  <tbody>\n",
       "    <tr>\n",
       "      <th>0</th>\n",
       "      <td>1</td>\n",
       "      <td>가관이다</td>\n",
       "      <td>혐오</td>\n",
       "      <td>47.5</td>\n",
       "      <td>4.95</td>\n",
       "      <td>2.46</td>\n",
       "    </tr>\n",
       "    <tr>\n",
       "      <th>1</th>\n",
       "      <td>2</td>\n",
       "      <td>가련하다</td>\n",
       "      <td>슬픔</td>\n",
       "      <td>88.8</td>\n",
       "      <td>5.62</td>\n",
       "      <td>2.36</td>\n",
       "    </tr>\n",
       "    <tr>\n",
       "      <th>2</th>\n",
       "      <td>3</td>\n",
       "      <td>가뿐하다</td>\n",
       "      <td>기쁨</td>\n",
       "      <td>81.3</td>\n",
       "      <td>5.36</td>\n",
       "      <td>2.89</td>\n",
       "    </tr>\n",
       "    <tr>\n",
       "      <th>3</th>\n",
       "      <td>4</td>\n",
       "      <td>가소롭다</td>\n",
       "      <td>혐오</td>\n",
       "      <td>46.3</td>\n",
       "      <td>4.82</td>\n",
       "      <td>1.81</td>\n",
       "    </tr>\n",
       "    <tr>\n",
       "      <th>4</th>\n",
       "      <td>5</td>\n",
       "      <td>가슴아프다</td>\n",
       "      <td>슬픔</td>\n",
       "      <td>93.8</td>\n",
       "      <td>7.62</td>\n",
       "      <td>2.14</td>\n",
       "    </tr>\n",
       "    <tr>\n",
       "      <th>...</th>\n",
       "      <td>...</td>\n",
       "      <td>...</td>\n",
       "      <td>...</td>\n",
       "      <td>...</td>\n",
       "      <td>...</td>\n",
       "      <td>...</td>\n",
       "    </tr>\n",
       "    <tr>\n",
       "      <th>423</th>\n",
       "      <td>424</td>\n",
       "      <td>흥분하다</td>\n",
       "      <td>분노</td>\n",
       "      <td>56.3</td>\n",
       "      <td>6.72</td>\n",
       "      <td>2.71</td>\n",
       "    </tr>\n",
       "    <tr>\n",
       "      <th>424</th>\n",
       "      <td>425</td>\n",
       "      <td>희희낙락하다</td>\n",
       "      <td>기쁨</td>\n",
       "      <td>95.0</td>\n",
       "      <td>7.14</td>\n",
       "      <td>2.40</td>\n",
       "    </tr>\n",
       "    <tr>\n",
       "      <th>425</th>\n",
       "      <td>426</td>\n",
       "      <td>히죽거리다</td>\n",
       "      <td>기쁨</td>\n",
       "      <td>83.8</td>\n",
       "      <td>5.61</td>\n",
       "      <td>2.75</td>\n",
       "    </tr>\n",
       "    <tr>\n",
       "      <th>426</th>\n",
       "      <td>427</td>\n",
       "      <td>히죽거리다</td>\n",
       "      <td>기쁨</td>\n",
       "      <td>83.8</td>\n",
       "      <td>5.61</td>\n",
       "      <td>2.75</td>\n",
       "    </tr>\n",
       "    <tr>\n",
       "      <th>427</th>\n",
       "      <td>428</td>\n",
       "      <td>히히</td>\n",
       "      <td>기쁨</td>\n",
       "      <td>95.0</td>\n",
       "      <td>5.76</td>\n",
       "      <td>2.87</td>\n",
       "    </tr>\n",
       "  </tbody>\n",
       "</table>\n",
       "<p>428 rows × 6 columns</p>\n",
       "</div>"
      ],
      "text/plain": [
       "     일련번호      단어 감정범주    빈도  감정정도M  감정정도STD\n",
       "0       1    가관이다   혐오  47.5   4.95     2.46\n",
       "1       2    가련하다   슬픔  88.8   5.62     2.36\n",
       "2       3    가뿐하다   기쁨  81.3   5.36     2.89\n",
       "3       4    가소롭다   혐오  46.3   4.82     1.81\n",
       "4       5   가슴아프다   슬픔  93.8   7.62     2.14\n",
       "..    ...     ...  ...   ...    ...      ...\n",
       "423   424    흥분하다   분노  56.3   6.72     2.71\n",
       "424   425  희희낙락하다   기쁨  95.0   7.14     2.40\n",
       "425   426   히죽거리다   기쁨  83.8   5.61     2.75\n",
       "426   427   히죽거리다   기쁨  83.8   5.61     2.75\n",
       "427   428      히히   기쁨  95.0   5.76     2.87\n",
       "\n",
       "[428 rows x 6 columns]"
      ]
     },
     "execution_count": 3,
     "metadata": {},
     "output_type": "execute_result"
    }
   ],
   "source": [
    "from tensorflow.keras.models import *\n",
    "from tensorflow.keras.layers import *\n",
    "import tensorflow as tf\n",
    "import numpy as np\n",
    "import pandas as pd\n",
    "\n",
    "# with open('/Users/subin/1억조/데이터 EDA 및 모델링/데이터만 일단 모아둠/감정단어사전0603.xlsx', 'r', encoding='utf-8') as f:\n",
    "#     text = f.read()\n",
    "df = pd.read_excel('./데이터만 일단 모아둠/감정단어사전0603.xlsx')\n",
    "df"
   ]
  },
  {
   "cell_type": "code",
   "execution_count": 4,
   "metadata": {},
   "outputs": [
    {
     "name": "stdout",
     "output_type": "stream",
     "text": [
      "341     중성\n",
      "351     통증\n",
      "354    지루함\n",
      "360     기타\n",
      "374     공포\n",
      "415     혐오\n",
      "418     슬픔\n",
      "419     놀람\n",
      "422     흥미\n",
      "423     분노\n",
      "427     기쁨\n",
      "Name: 감정범주, dtype: object\n"
     ]
    }
   ],
   "source": [
    "#중복값들을 제거하고 어떤것들이 있는지 확인\n",
    "df_iloc=df.iloc[:, 2]\n",
    "\n",
    "duplicate_rows = df_iloc[df_iloc.duplicated()]\n",
    "\n",
    "# print(duplicate_rows)\n",
    "\n",
    "df_iloc = df_iloc.drop_duplicates(keep='last')\n",
    "\n",
    "print(df_iloc)\n"
   ]
  },
  {
   "cell_type": "code",
   "execution_count": 5,
   "metadata": {},
   "outputs": [],
   "source": [
    "import pandas as pd\n",
    "from sklearn.preprocessing import LabelEncoder\n",
    "#x,y값을 추출후 데이터프레임에 넣는다.\n",
    "# X 값 추출 피쳐feature, y값 추출 target \n",
    "\n",
    "df_train = pd.DataFrame({\n",
    "    'feature': df.iloc[:, 1].values,\n",
    "    'target': df.iloc[:, 2].values\n",
    "})\n",
    "\n",
    "#LabelEncoder 객체를 생성\n",
    "label_encoder = LabelEncoder()\n",
    "\n",
    "#타겟 변수를 인코딩\n",
    "encoded_target = label_encoder.fit_transform(df_train['target'])\n",
    "\n",
    "#인코딩된 타겟 변수를 원래 데이터프레임에 추가하거나 교체합니다.\n",
    "df_train['encoded_target'] = encoded_target\n",
    "\n",
    "decoded_target = label_encoder.inverse_transform(encoded_target)\n",
    "\n",
    "# 라벨별로 분류\n",
    "one = df_train[df_train['target'] == '중성']\n",
    "two = df_train[df_train['target'] == '통증']\n",
    "three = df_train[df_train['target'] == '지루함']\n",
    "four = df_train[df_train['target'] == '기타']\n",
    "five = df_train[df_train['target'] == '공포']\n",
    "six = df_train[df_train['target'] == '혐오']\n",
    "seven = df_train[df_train['target'] == '슬픔']\n",
    "eight = df_train[df_train['target'] == '놀람']\n",
    "nine = df_train[df_train['target'] == '흥미']\n",
    "ten = df_train[df_train['target'] == '분노']\n",
    "zero = df_train[df_train['target'] == '기쁨']"
   ]
  },
  {
   "cell_type": "code",
   "execution_count": 6,
   "metadata": {},
   "outputs": [
    {
     "data": {
      "text/plain": [
       "4"
      ]
     },
     "execution_count": 6,
     "metadata": {},
     "output_type": "execute_result"
    }
   ],
   "source": [
    "len(one)"
   ]
  },
  {
   "cell_type": "code",
   "execution_count": 7,
   "metadata": {},
   "outputs": [
    {
     "data": {
      "text/html": [
       "<div>\n",
       "<style scoped>\n",
       "    .dataframe tbody tr th:only-of-type {\n",
       "        vertical-align: middle;\n",
       "    }\n",
       "\n",
       "    .dataframe tbody tr th {\n",
       "        vertical-align: top;\n",
       "    }\n",
       "\n",
       "    .dataframe thead th {\n",
       "        text-align: right;\n",
       "    }\n",
       "</style>\n",
       "<table border=\"1\" class=\"dataframe\">\n",
       "  <thead>\n",
       "    <tr style=\"text-align: right;\">\n",
       "      <th></th>\n",
       "      <th>feature</th>\n",
       "      <th>target</th>\n",
       "      <th>encoded_target</th>\n",
       "    </tr>\n",
       "  </thead>\n",
       "  <tbody>\n",
       "    <tr>\n",
       "      <th>0</th>\n",
       "      <td>가관이다</td>\n",
       "      <td>혐오</td>\n",
       "      <td>9</td>\n",
       "    </tr>\n",
       "    <tr>\n",
       "      <th>1</th>\n",
       "      <td>가련하다</td>\n",
       "      <td>슬픔</td>\n",
       "      <td>5</td>\n",
       "    </tr>\n",
       "    <tr>\n",
       "      <th>2</th>\n",
       "      <td>가뿐하다</td>\n",
       "      <td>기쁨</td>\n",
       "      <td>1</td>\n",
       "    </tr>\n",
       "    <tr>\n",
       "      <th>3</th>\n",
       "      <td>가소롭다</td>\n",
       "      <td>혐오</td>\n",
       "      <td>9</td>\n",
       "    </tr>\n",
       "    <tr>\n",
       "      <th>4</th>\n",
       "      <td>가슴아프다</td>\n",
       "      <td>슬픔</td>\n",
       "      <td>5</td>\n",
       "    </tr>\n",
       "    <tr>\n",
       "      <th>...</th>\n",
       "      <td>...</td>\n",
       "      <td>...</td>\n",
       "      <td>...</td>\n",
       "    </tr>\n",
       "    <tr>\n",
       "      <th>423</th>\n",
       "      <td>흥분하다</td>\n",
       "      <td>분노</td>\n",
       "      <td>4</td>\n",
       "    </tr>\n",
       "    <tr>\n",
       "      <th>424</th>\n",
       "      <td>희희낙락하다</td>\n",
       "      <td>기쁨</td>\n",
       "      <td>1</td>\n",
       "    </tr>\n",
       "    <tr>\n",
       "      <th>425</th>\n",
       "      <td>히죽거리다</td>\n",
       "      <td>기쁨</td>\n",
       "      <td>1</td>\n",
       "    </tr>\n",
       "    <tr>\n",
       "      <th>426</th>\n",
       "      <td>히죽거리다</td>\n",
       "      <td>기쁨</td>\n",
       "      <td>1</td>\n",
       "    </tr>\n",
       "    <tr>\n",
       "      <th>427</th>\n",
       "      <td>히히</td>\n",
       "      <td>기쁨</td>\n",
       "      <td>1</td>\n",
       "    </tr>\n",
       "  </tbody>\n",
       "</table>\n",
       "<p>428 rows × 3 columns</p>\n",
       "</div>"
      ],
      "text/plain": [
       "    feature target  encoded_target\n",
       "0      가관이다     혐오               9\n",
       "1      가련하다     슬픔               5\n",
       "2      가뿐하다     기쁨               1\n",
       "3      가소롭다     혐오               9\n",
       "4     가슴아프다     슬픔               5\n",
       "..      ...    ...             ...\n",
       "423    흥분하다     분노               4\n",
       "424  희희낙락하다     기쁨               1\n",
       "425   히죽거리다     기쁨               1\n",
       "426   히죽거리다     기쁨               1\n",
       "427      히히     기쁨               1\n",
       "\n",
       "[428 rows x 3 columns]"
      ]
     },
     "execution_count": 7,
     "metadata": {},
     "output_type": "execute_result"
    }
   ],
   "source": [
    "df_train\n",
    "# print(y_train[:3])"
   ]
  },
  {
   "cell_type": "code",
   "execution_count": 8,
   "metadata": {},
   "outputs": [
    {
     "name": "stderr",
     "output_type": "stream",
     "text": [
      "c:\\Users\\uk246\\AppData\\Local\\Programs\\Python\\Python310\\lib\\site-packages\\sklearn\\feature_extraction\\text.py:528: UserWarning: The parameter 'token_pattern' will not be used since 'tokenizer' is not None'\n",
      "  warnings.warn(\n"
     ]
    }
   ],
   "source": [
    "# 예시로 상위 1000개 데이터만 사용\n",
    "df_train=df_train[:10000]\n",
    "from sklearn.feature_extraction.text import TfidfVectorizer\n",
    "from konlpy.tag import Okt\n",
    "vectorizer=TfidfVectorizer(tokenizer=Okt().morphs)\n",
    "X = vectorizer.fit_transform(df_train.iloc[:,0])\n",
    "Y = df_train.iloc[:,1]"
   ]
  },
  {
   "cell_type": "code",
   "execution_count": 9,
   "metadata": {},
   "outputs": [
    {
     "data": {
      "text/plain": [
       "(428, 477)"
      ]
     },
     "execution_count": 9,
     "metadata": {},
     "output_type": "execute_result"
    }
   ],
   "source": [
    "X.toarray().shape"
   ]
  }
 ],
 "metadata": {
  "kernelspec": {
   "display_name": "Python 3",
   "language": "python",
   "name": "python3"
  },
  "language_info": {
   "codemirror_mode": {
    "name": "ipython",
    "version": 3
   },
   "file_extension": ".py",
   "mimetype": "text/x-python",
   "name": "python",
   "nbconvert_exporter": "python",
   "pygments_lexer": "ipython3",
   "version": "3.10.6"
  },
  "orig_nbformat": 4
 },
 "nbformat": 4,
 "nbformat_minor": 2
}
