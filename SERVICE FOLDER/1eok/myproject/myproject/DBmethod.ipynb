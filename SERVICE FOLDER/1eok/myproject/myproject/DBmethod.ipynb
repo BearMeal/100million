{
 "cells": [
  {
   "attachments": {},
   "cell_type": "markdown",
   "metadata": {},
   "source": [
    "gpt를 이용한 구현 "
   ]
  },
  {
   "cell_type": "code",
   "execution_count": 4,
   "metadata": {},
   "outputs": [],
   "source": [
    "import os\n",
    "import sys\n",
    "\n",
    "# 프로젝트 루트 경로 설정\n",
    "project_root = os.path.dirname(os.getcwd())\n",
    "sys.path.append(project_root)\n",
    "\n",
    "# 장고 설정 모듈 설정\n",
    "os.environ.setdefault('DJANGO_SETTINGS_MODULE', 'myproject.settings')\n",
    "\n",
    "# 장고 설정 적용\n",
    "import django\n",
    "django.setup()"
   ]
  },
  {
   "cell_type": "code",
   "execution_count": 2,
   "metadata": {},
   "outputs": [
    {
     "data": {
      "text/plain": [
       "'c:\\\\proj\\\\git\\\\SERVICE FOLDER\\\\1eok\\\\myproject\\\\myproject'"
      ]
     },
     "execution_count": 2,
     "metadata": {},
     "output_type": "execute_result"
    }
   ],
   "source": [
    "os.getcwd()"
   ]
  },
  {
   "cell_type": "code",
   "execution_count": 3,
   "metadata": {},
   "outputs": [],
   "source": [
    "from myapp.models import TrainingData\n",
    "import json\n",
    "from channels.db import database_sync_to_async\n",
    "import asyncio\n",
    "\n",
    "# 예시 데이터 (실제 데이터로 대체)\n",
    "input_data = {'feature1': 1, 'feature2': 2}\n",
    "output_data = {'label': 0}\n",
    "\n",
    "# JSON으로 변환\n",
    "input_data_json = json.dumps(input_data)\n",
    "output_data_json = json.dumps(output_data)\n",
    "\n",
    "# 데이터베이스에 저장하는 동기식 함수\n",
    "def save_to_database(input_data_json, output_data_json):\n",
    "    training_data = TrainingData(input_data=input_data_json, output_data=output_data_json)\n",
    "    training_data.save()\n",
    "\n",
    "# 동기식 함수를 비동기식으로 실행\n",
    "@database_sync_to_async\n",
    "def save_data_async(input_data_json, output_data_json):\n",
    "    save_to_database(input_data_json, output_data_json)\n",
    "\n",
    "# 이벤트 루프를 사용하여 비동기식 함수 실행\n",
    "await save_data_async(input_data_json, output_data_json)"
   ]
  },
  {
   "cell_type": "code",
   "execution_count": 4,
   "metadata": {},
   "outputs": [
    {
     "ename": "SynchronousOnlyOperation",
     "evalue": "You cannot call this from an async context - use a thread or sync_to_async.",
     "output_type": "error",
     "traceback": [
      "\u001b[1;31m---------------------------------------------------------------------------\u001b[0m",
      "\u001b[1;31mSynchronousOnlyOperation\u001b[0m                  Traceback (most recent call last)",
      "\u001b[1;32mc:\\proj\\git\\SERVICE FOLDER\\1eok\\myproject\\myproject\\DBmethod.ipynb 셀 4\u001b[0m in \u001b[0;36m2\n\u001b[0;32m     <a href='vscode-notebook-cell:/c%3A/proj/git/SERVICE%20FOLDER/1eok/myproject/myproject/DBmethod.ipynb#X11sZmlsZQ%3D%3D?line=22'>23</a>\u001b[0m         \u001b[39mprint\u001b[39m(\u001b[39mf\u001b[39m\u001b[39m\"\u001b[39m\u001b[39mID: \u001b[39m\u001b[39m{\u001b[39;00mdata\u001b[39m.\u001b[39mid\u001b[39m}\u001b[39;00m\u001b[39m, Input Data: \u001b[39m\u001b[39m{\u001b[39;00mdata\u001b[39m.\u001b[39minput_data\u001b[39m}\u001b[39;00m\u001b[39m, Output Data: \u001b[39m\u001b[39m{\u001b[39;00mdata\u001b[39m.\u001b[39moutput_data\u001b[39m}\u001b[39;00m\u001b[39m, Timestamp: \u001b[39m\u001b[39m{\u001b[39;00mdata\u001b[39m.\u001b[39mtimestamp\u001b[39m}\u001b[39;00m\u001b[39m\"\u001b[39m)\n\u001b[0;32m     <a href='vscode-notebook-cell:/c%3A/proj/git/SERVICE%20FOLDER/1eok/myproject/myproject/DBmethod.ipynb#X11sZmlsZQ%3D%3D?line=24'>25</a>\u001b[0m \u001b[39m# 이벤트 루프를 사용하여 main() 함수 실행\u001b[39;00m\n\u001b[1;32m---> <a href='vscode-notebook-cell:/c%3A/proj/git/SERVICE%20FOLDER/1eok/myproject/myproject/DBmethod.ipynb#X11sZmlsZQ%3D%3D?line=25'>26</a>\u001b[0m \u001b[39mawait\u001b[39;00m main()\n",
      "\u001b[1;32mc:\\proj\\git\\SERVICE FOLDER\\1eok\\myproject\\myproject\\DBmethod.ipynb 셀 4\u001b[0m in \u001b[0;36m2\n\u001b[0;32m     <a href='vscode-notebook-cell:/c%3A/proj/git/SERVICE%20FOLDER/1eok/myproject/myproject/DBmethod.ipynb#X11sZmlsZQ%3D%3D?line=18'>19</a>\u001b[0m \u001b[39masync\u001b[39;00m \u001b[39mdef\u001b[39;00m \u001b[39mmain\u001b[39m():\n\u001b[0;32m     <a href='vscode-notebook-cell:/c%3A/proj/git/SERVICE%20FOLDER/1eok/myproject/myproject/DBmethod.ipynb#X11sZmlsZQ%3D%3D?line=19'>20</a>\u001b[0m     all_training_data \u001b[39m=\u001b[39m \u001b[39mawait\u001b[39;00m get_all_training_data_async()\n\u001b[1;32m---> <a href='vscode-notebook-cell:/c%3A/proj/git/SERVICE%20FOLDER/1eok/myproject/myproject/DBmethod.ipynb#X11sZmlsZQ%3D%3D?line=20'>21</a>\u001b[0m     \u001b[39mfor\u001b[39;00m data \u001b[39min\u001b[39;00m all_training_data:\n\u001b[0;32m     <a href='vscode-notebook-cell:/c%3A/proj/git/SERVICE%20FOLDER/1eok/myproject/myproject/DBmethod.ipynb#X11sZmlsZQ%3D%3D?line=21'>22</a>\u001b[0m         \u001b[39mawait\u001b[39;00m asyncio\u001b[39m.\u001b[39msleep(\u001b[39m0\u001b[39m)\n\u001b[0;32m     <a href='vscode-notebook-cell:/c%3A/proj/git/SERVICE%20FOLDER/1eok/myproject/myproject/DBmethod.ipynb#X11sZmlsZQ%3D%3D?line=22'>23</a>\u001b[0m         \u001b[39mprint\u001b[39m(\u001b[39mf\u001b[39m\u001b[39m\"\u001b[39m\u001b[39mID: \u001b[39m\u001b[39m{\u001b[39;00mdata\u001b[39m.\u001b[39mid\u001b[39m}\u001b[39;00m\u001b[39m, Input Data: \u001b[39m\u001b[39m{\u001b[39;00mdata\u001b[39m.\u001b[39minput_data\u001b[39m}\u001b[39;00m\u001b[39m, Output Data: \u001b[39m\u001b[39m{\u001b[39;00mdata\u001b[39m.\u001b[39moutput_data\u001b[39m}\u001b[39;00m\u001b[39m, Timestamp: \u001b[39m\u001b[39m{\u001b[39;00mdata\u001b[39m.\u001b[39mtimestamp\u001b[39m}\u001b[39;00m\u001b[39m\"\u001b[39m)\n",
      "File \u001b[1;32mc:\\proj\\myvenv\\lib\\site-packages\\django\\db\\models\\query.py:280\u001b[0m, in \u001b[0;36mQuerySet.__iter__\u001b[1;34m(self)\u001b[0m\n\u001b[0;32m    265\u001b[0m \u001b[39mdef\u001b[39;00m \u001b[39m__iter__\u001b[39m(\u001b[39mself\u001b[39m):\n\u001b[0;32m    266\u001b[0m     \u001b[39m\"\"\"\u001b[39;00m\n\u001b[0;32m    267\u001b[0m \u001b[39m    The queryset iterator protocol uses three nested iterators in the\u001b[39;00m\n\u001b[0;32m    268\u001b[0m \u001b[39m    default case:\u001b[39;00m\n\u001b[1;32m   (...)\u001b[0m\n\u001b[0;32m    278\u001b[0m \u001b[39m           - Responsible for turning the rows into model objects.\u001b[39;00m\n\u001b[0;32m    279\u001b[0m \u001b[39m    \"\"\"\u001b[39;00m\n\u001b[1;32m--> 280\u001b[0m     \u001b[39mself\u001b[39;49m\u001b[39m.\u001b[39;49m_fetch_all()\n\u001b[0;32m    281\u001b[0m     \u001b[39mreturn\u001b[39;00m \u001b[39miter\u001b[39m(\u001b[39mself\u001b[39m\u001b[39m.\u001b[39m_result_cache)\n",
      "File \u001b[1;32mc:\\proj\\myvenv\\lib\\site-packages\\django\\db\\models\\query.py:1324\u001b[0m, in \u001b[0;36mQuerySet._fetch_all\u001b[1;34m(self)\u001b[0m\n\u001b[0;32m   1322\u001b[0m \u001b[39mdef\u001b[39;00m \u001b[39m_fetch_all\u001b[39m(\u001b[39mself\u001b[39m):\n\u001b[0;32m   1323\u001b[0m     \u001b[39mif\u001b[39;00m \u001b[39mself\u001b[39m\u001b[39m.\u001b[39m_result_cache \u001b[39mis\u001b[39;00m \u001b[39mNone\u001b[39;00m:\n\u001b[1;32m-> 1324\u001b[0m         \u001b[39mself\u001b[39m\u001b[39m.\u001b[39m_result_cache \u001b[39m=\u001b[39m \u001b[39mlist\u001b[39;49m(\u001b[39mself\u001b[39;49m\u001b[39m.\u001b[39;49m_iterable_class(\u001b[39mself\u001b[39;49m))\n\u001b[0;32m   1325\u001b[0m     \u001b[39mif\u001b[39;00m \u001b[39mself\u001b[39m\u001b[39m.\u001b[39m_prefetch_related_lookups \u001b[39mand\u001b[39;00m \u001b[39mnot\u001b[39;00m \u001b[39mself\u001b[39m\u001b[39m.\u001b[39m_prefetch_done:\n\u001b[0;32m   1326\u001b[0m         \u001b[39mself\u001b[39m\u001b[39m.\u001b[39m_prefetch_related_objects()\n",
      "File \u001b[1;32mc:\\proj\\myvenv\\lib\\site-packages\\django\\db\\models\\query.py:51\u001b[0m, in \u001b[0;36mModelIterable.__iter__\u001b[1;34m(self)\u001b[0m\n\u001b[0;32m     48\u001b[0m compiler \u001b[39m=\u001b[39m queryset\u001b[39m.\u001b[39mquery\u001b[39m.\u001b[39mget_compiler(using\u001b[39m=\u001b[39mdb)\n\u001b[0;32m     49\u001b[0m \u001b[39m# Execute the query. This will also fill compiler.select, klass_info,\u001b[39;00m\n\u001b[0;32m     50\u001b[0m \u001b[39m# and annotations.\u001b[39;00m\n\u001b[1;32m---> 51\u001b[0m results \u001b[39m=\u001b[39m compiler\u001b[39m.\u001b[39;49mexecute_sql(chunked_fetch\u001b[39m=\u001b[39;49m\u001b[39mself\u001b[39;49m\u001b[39m.\u001b[39;49mchunked_fetch, chunk_size\u001b[39m=\u001b[39;49m\u001b[39mself\u001b[39;49m\u001b[39m.\u001b[39;49mchunk_size)\n\u001b[0;32m     52\u001b[0m select, klass_info, annotation_col_map \u001b[39m=\u001b[39m (compiler\u001b[39m.\u001b[39mselect, compiler\u001b[39m.\u001b[39mklass_info,\n\u001b[0;32m     53\u001b[0m                                           compiler\u001b[39m.\u001b[39mannotation_col_map)\n\u001b[0;32m     54\u001b[0m model_cls \u001b[39m=\u001b[39m klass_info[\u001b[39m'\u001b[39m\u001b[39mmodel\u001b[39m\u001b[39m'\u001b[39m]\n",
      "File \u001b[1;32mc:\\proj\\myvenv\\lib\\site-packages\\django\\db\\models\\sql\\compiler.py:1173\u001b[0m, in \u001b[0;36mSQLCompiler.execute_sql\u001b[1;34m(self, result_type, chunked_fetch, chunk_size)\u001b[0m\n\u001b[0;32m   1171\u001b[0m     cursor \u001b[39m=\u001b[39m \u001b[39mself\u001b[39m\u001b[39m.\u001b[39mconnection\u001b[39m.\u001b[39mchunked_cursor()\n\u001b[0;32m   1172\u001b[0m \u001b[39melse\u001b[39;00m:\n\u001b[1;32m-> 1173\u001b[0m     cursor \u001b[39m=\u001b[39m \u001b[39mself\u001b[39;49m\u001b[39m.\u001b[39;49mconnection\u001b[39m.\u001b[39;49mcursor()\n\u001b[0;32m   1174\u001b[0m \u001b[39mtry\u001b[39;00m:\n\u001b[0;32m   1175\u001b[0m     cursor\u001b[39m.\u001b[39mexecute(sql, params)\n",
      "File \u001b[1;32mc:\\proj\\myvenv\\lib\\site-packages\\django\\utils\\asyncio.py:31\u001b[0m, in \u001b[0;36masync_unsafe.<locals>.decorator.<locals>.inner\u001b[1;34m(*args, **kwargs)\u001b[0m\n\u001b[0;32m     29\u001b[0m     \u001b[39melse\u001b[39;00m:\n\u001b[0;32m     30\u001b[0m         \u001b[39mif\u001b[39;00m PY37 \u001b[39mor\u001b[39;00m event_loop\u001b[39m.\u001b[39mis_running():\n\u001b[1;32m---> 31\u001b[0m             \u001b[39mraise\u001b[39;00m SynchronousOnlyOperation(message)\n\u001b[0;32m     32\u001b[0m \u001b[39m# Pass onwards.\u001b[39;00m\n\u001b[0;32m     33\u001b[0m \u001b[39mreturn\u001b[39;00m func(\u001b[39m*\u001b[39margs, \u001b[39m*\u001b[39m\u001b[39m*\u001b[39mkwargs)\n",
      "\u001b[1;31mSynchronousOnlyOperation\u001b[0m: You cannot call this from an async context - use a thread or sync_to_async."
     ]
    }
   ],
   "source": [
    "import asyncio\n",
    "import nest_asyncio\n",
    "from myapp.models import TrainingData\n",
    "from channels.db import database_sync_to_async\n",
    "\n",
    "nest_asyncio.apply()\n",
    "\n",
    "# 모든 TrainingData 객체를 가져오는 동기식 함수\n",
    "def get_all_training_data():\n",
    "    all_training_data = TrainingData.objects.all()\n",
    "    return all_training_data\n",
    "\n",
    "# 동기식 함수를 비동기식으로 실행\n",
    "@database_sync_to_async\n",
    "def get_all_training_data_async():\n",
    "    return get_all_training_data()\n",
    "\n",
    "# 비동기 함수를 실행하고 결과를 받는 새로운 함수\n",
    "async def main():\n",
    "    all_training_data = await get_all_training_data_async()\n",
    "    for data in all_training_data:\n",
    "        await asyncio.sleep(0)\n",
    "        print(f\"ID: {data.id}, Input Data: {data.input_data}, Output Data: {data.output_data}, Timestamp: {data.timestamp}\")\n",
    "\n",
    "# 이벤트 루프를 사용하여 main() 함수 실행\n",
    "await main()"
   ]
  },
  {
   "attachments": {},
   "cell_type": "markdown",
   "metadata": {},
   "source": [
    "gpt를 이용해서 실패 \n",
    "\n",
    "이하 빙을 이용한 구현"
   ]
  },
  {
   "cell_type": "code",
   "execution_count": 1,
   "metadata": {},
   "outputs": [
    {
     "ename": "ModuleNotFoundError",
     "evalue": "No module named 'myapp'",
     "output_type": "error",
     "traceback": [
      "\u001b[1;31m---------------------------------------------------------------------------\u001b[0m",
      "\u001b[1;31mModuleNotFoundError\u001b[0m                       Traceback (most recent call last)",
      "\u001b[1;32mc:\\proj\\git\\SERVICE FOLDER\\1eok\\myproject\\myproject\\DBmethod.ipynb 셀 7\u001b[0m in \u001b[0;36m2\n\u001b[0;32m      <a href='vscode-notebook-cell:/c%3A/proj/git/SERVICE%20FOLDER/1eok/myproject/myproject/DBmethod.ipynb#W6sZmlsZQ%3D%3D?line=0'>1</a>\u001b[0m \u001b[39mfrom\u001b[39;00m \u001b[39masgiref\u001b[39;00m\u001b[39m.\u001b[39;00m\u001b[39msync\u001b[39;00m \u001b[39mimport\u001b[39;00m sync_to_async\n\u001b[1;32m----> <a href='vscode-notebook-cell:/c%3A/proj/git/SERVICE%20FOLDER/1eok/myproject/myproject/DBmethod.ipynb#W6sZmlsZQ%3D%3D?line=1'>2</a>\u001b[0m \u001b[39mfrom\u001b[39;00m \u001b[39mmyapp\u001b[39;00m\u001b[39m.\u001b[39;00m\u001b[39mmodels\u001b[39;00m \u001b[39mimport\u001b[39;00m Product\n\u001b[0;32m      <a href='vscode-notebook-cell:/c%3A/proj/git/SERVICE%20FOLDER/1eok/myproject/myproject/DBmethod.ipynb#W6sZmlsZQ%3D%3D?line=3'>4</a>\u001b[0m \u001b[39m@sync_to_async\u001b[39m\n\u001b[0;32m      <a href='vscode-notebook-cell:/c%3A/proj/git/SERVICE%20FOLDER/1eok/myproject/myproject/DBmethod.ipynb#W6sZmlsZQ%3D%3D?line=4'>5</a>\u001b[0m \u001b[39mdef\u001b[39;00m \u001b[39mcreate_product\u001b[39m(name, price):\n\u001b[0;32m      <a href='vscode-notebook-cell:/c%3A/proj/git/SERVICE%20FOLDER/1eok/myproject/myproject/DBmethod.ipynb#W6sZmlsZQ%3D%3D?line=5'>6</a>\u001b[0m     product \u001b[39m=\u001b[39m Product(name\u001b[39m=\u001b[39mname, price\u001b[39m=\u001b[39mprice)\n",
      "\u001b[1;31mModuleNotFoundError\u001b[0m: No module named 'myapp'"
     ]
    }
   ],
   "source": [
    "from asgiref.sync import sync_to_async\n",
    "from myapp.models import Product\n",
    "\n",
    "@sync_to_async\n",
    "def create_product(name, price):\n",
    "    product = Product(name=name, price=price)\n",
    "    product.save()\n",
    "\n",
    "await create_product('example2', 11000)"
   ]
  },
  {
   "cell_type": "code",
   "execution_count": 8,
   "metadata": {},
   "outputs": [],
   "source": [
    "from asgiref.sync import sync_to_async\n",
    "\n",
    "@sync_to_async\n",
    "def get_products():\n",
    "    return list(Product.objects.all())\n",
    "\n",
    "products = await get_products()"
   ]
  },
  {
   "cell_type": "code",
   "execution_count": 5,
   "metadata": {},
   "outputs": [
    {
     "name": "stdout",
     "output_type": "stream",
     "text": [
      "[<Product: Product object (1)>]\n"
     ]
    }
   ],
   "source": [
    "print(products)"
   ]
  },
  {
   "cell_type": "code",
   "execution_count": 9,
   "metadata": {},
   "outputs": [
    {
     "name": "stdout",
     "output_type": "stream",
     "text": [
      "example 1000\n",
      "example2 11000\n"
     ]
    }
   ],
   "source": [
    "for product in products:\n",
    "    print(product.name, product.price)"
   ]
  },
  {
   "attachments": {},
   "cell_type": "markdown",
   "metadata": {},
   "source": [
    "실제적으로 모델1에서 사용했던 데이터를 db에 저장해보자"
   ]
  },
  {
   "attachments": {},
   "cell_type": "markdown",
   "metadata": {},
   "source": [
    "1. 기존 데이터 생김새 파악"
   ]
  },
  {
   "cell_type": "code",
   "execution_count": 2,
   "metadata": {},
   "outputs": [],
   "source": [
    "#시각화용 임포트 모음\n",
    "import matplotlib.pyplot as plt\n",
    "import seaborn as sns\n",
    "from plotly import graph_objs as go\n",
    "\n",
    "import tensorflow as tf\n",
    "import numpy as np\n",
    "import pandas as pd\n",
    "\n",
    "#1. Naver Sentiment Movie Corpus v1.0 다운로드\n",
    "train_file = tf.keras.utils.get_file('train.txt', 'https://raw.githubusercontent.com/e9t/nsmc/master/ratings_train.txt')\n",
    "# test_file = tf.keras.utils.get_file( 'test.txt',  'https://raw.githubusercontent.com/e9t/nsmc/master/ratings_test.txt')\n",
    "\n",
    "#파일을 이진모드로 읽어온다. 디코드는 utf8로한다.\n",
    "train_text = open(train_file,'rb').read().decode(encoding='utf-8')\n",
    "# test_text = open(test_file,'rb').read().decode(encoding='utf-8')\n"
   ]
  },
  {
   "cell_type": "code",
   "execution_count": null,
   "metadata": {},
   "outputs": [],
   "source": [
    "print(train_text)"
   ]
  },
  {
   "cell_type": "code",
   "execution_count": 3,
   "metadata": {},
   "outputs": [],
   "source": [
    "df_train = pd.DataFrame({\n",
    "    'text':[ row.split('\\t')[1] for row in train_text.split('\\n')[1:] if row.count('\\t')>0 ],\n",
    "    'sentiment': [ int(row.split('\\t')[2]) for row in train_text.split('\\n')[1:] if row.count('\\t')>0]\n",
    "})\n",
    "\n",
    "#데이터 크기 지정\n",
    "# df_train = df_train[::6]"
   ]
  },
  {
   "cell_type": "code",
   "execution_count": 4,
   "metadata": {},
   "outputs": [
    {
     "data": {
      "text/plain": [
       "'교도소 이야기구먼 ..솔직히 재미는 없다..평점 조정'"
      ]
     },
     "execution_count": 4,
     "metadata": {},
     "output_type": "execute_result"
    }
   ],
   "source": [
    "df_train.loc[0][1]\n",
    "#앞의 숫자는 행번호 뒤의 숫자는 0일때 context, 1일때 label\n",
    "df_train.loc[3][0]\n"
   ]
  },
  {
   "attachments": {},
   "cell_type": "markdown",
   "metadata": {},
   "source": [
    "기존 데이터 context의 길이를 파악해서 db에 구축해야하니까 길이파악"
   ]
  },
  {
   "cell_type": "code",
   "execution_count": 13,
   "metadata": {},
   "outputs": [
    {
     "name": "stdout",
     "output_type": "stream",
     "text": [
      "158\n"
     ]
    }
   ],
   "source": [
    "maxlen=0\n",
    "#len(df_train)\n",
    "for i in range(len(df_train)):\n",
    "    if len(df_train.loc[i][0])>= maxlen:\n",
    "        maxlen=len(df_train.loc[i][0])\n",
    "print(maxlen)\n",
    "\n",
    "#공백포함 158자가 최대니까 160자로 db에 저장하면 될 듯?\n",
    "#1번인덱스에 저장할 내용은 0 또는 1 숫자니까 int"
   ]
  },
  {
   "attachments": {},
   "cell_type": "markdown",
   "metadata": {},
   "source": [
    "모델1에 적용한 naver 데이터 CRUD"
   ]
  },
  {
   "cell_type": "code",
   "execution_count": 19,
   "metadata": {},
   "outputs": [],
   "source": [
    "from asgiref.sync import sync_to_async\n",
    "from myapp.models import NaverMovieData\n",
    "\n",
    "# 네이버 데이터 Create\n",
    "@sync_to_async\n",
    "def create_data_naver(content, label):\n",
    "    naver = NaverMovieData(content=content, label=label)\n",
    "    naver.save()\n",
    "\n",
    "await create_data_naver('바보', 0)"
   ]
  },
  {
   "cell_type": "code",
   "execution_count": 15,
   "metadata": {},
   "outputs": [
    {
     "name": "stdout",
     "output_type": "stream",
     "text": [
      "test111\n"
     ]
    }
   ],
   "source": [
    "from asgiref.sync import sync_to_async\n",
    "from myapp.models import NaverMovieData\n",
    "\n",
    "# 네이버 데이터 Read\n",
    "@sync_to_async\n",
    "def get_data_naver(idx): #idx번째 데이터를 가져온다.\n",
    "    return NaverMovieData.objects.get(id=idx)\n",
    "\n",
    "data_naver = await get_data_naver(1)\n",
    "print(data_naver.content)\n",
    "print(data_naver.label)"
   ]
  },
  {
   "cell_type": "code",
   "execution_count": 18,
   "metadata": {},
   "outputs": [
    {
     "name": "stdout",
     "output_type": "stream",
     "text": [
      "2th data delete complete\n"
     ]
    }
   ],
   "source": [
    "from asgiref.sync import sync_to_async\n",
    "from myapp.models import NaverMovieData\n",
    "\n",
    "#네이버 데이터 Delete\n",
    "@sync_to_async\n",
    "def delete_data_naver(idx): #idx번째 데이터를 가져온다.\n",
    "    naver = NaverMovieData.objects.get(id=idx)\n",
    "    naver.delete()\n",
    "    return print('{}th data delete complete'.format(idx))\n",
    "\n",
    "await delete_data_naver(2)"
   ]
  },
  {
   "cell_type": "code",
   "execution_count": 21,
   "metadata": {},
   "outputs": [
    {
     "name": "stdout",
     "output_type": "stream",
     "text": [
      "3th data update complete\n"
     ]
    }
   ],
   "source": [
    "from asgiref.sync import sync_to_async\n",
    "from myapp.models import NaverMovieData\n",
    "\n",
    "#네이버 데이터 update\n",
    "@sync_to_async\n",
    "def update_data_naver(idx,content, label): #idx번째 데이터를 가져온다.\n",
    "    naver = NaverMovieData.objects.get(id=idx)\n",
    "    naver.content = content\n",
    "    naver.label = label\n",
    "    naver.save()\n",
    "\n",
    "    return print('{}th data update complete'.format(idx))\n",
    "\n",
    "await update_data_naver(3, '바보3',1)"
   ]
  },
  {
   "cell_type": "code",
   "execution_count": null,
   "metadata": {},
   "outputs": [],
   "source": [
    "#데이터를 삭제하면 그자리가 그대로 비어있다 해결방안?\n"
   ]
  }
 ],
 "metadata": {
  "kernelspec": {
   "display_name": "myvenv",
   "language": "python",
   "name": "python3"
  },
  "language_info": {
   "codemirror_mode": {
    "name": "ipython",
    "version": 3
   },
   "file_extension": ".py",
   "mimetype": "text/x-python",
   "name": "python",
   "nbconvert_exporter": "python",
   "pygments_lexer": "ipython3",
   "version": "3.10.10"
  },
  "orig_nbformat": 4
 },
 "nbformat": 4,
 "nbformat_minor": 2
}
