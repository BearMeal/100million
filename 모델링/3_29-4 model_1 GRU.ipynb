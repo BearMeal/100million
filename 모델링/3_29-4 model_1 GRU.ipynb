{
 "cells": [
  {
   "attachments": {},
   "cell_type": "markdown",
   "metadata": {},
   "source": [
    "데이터셋을 작게해서 사용한다면 => GRU를 활용하는게 효율적일것이다."
   ]
  },
  {
   "cell_type": "code",
   "execution_count": null,
   "metadata": {},
   "outputs": [],
   "source": [
    "import numpy as np\n",
    "from tensorflow.keras.preprocessing.text import Tokenizer\n",
    "from tensorflow.keras.preprocessing.sequence import pad_sequences\n",
    "from tensorflow.keras.models import Sequential\n",
    "from tensorflow.keras.layers import Embedding, GRU, Dense\n",
    "\n",
    "# 데이터 로드\n",
    "train_data = np.load('naver_movie_review_train_data.npy', allow_pickle=True)\n",
    "test_data = np.load('naver_movie_review_test_data.npy', allow_pickle=True)\n",
    "\n",
    "# 데이터 분리\n",
    "X_train = train_data[:, 1]\n",
    "y_train = train_data[:, 2]\n",
    "X_test = test_data[:, 1]\n",
    "y_test = test_data[:, 2]\n",
    "\n",
    "# 토크나이저 생성 및 학습\n",
    "tokenizer = Tokenizer()\n",
    "tokenizer.fit_on_texts(X_train)\n",
    "\n",
    "# 텍스트를 시퀀스로 변환\n",
    "X_train_seq = tokenizer.texts_to_sequences(X_train)\n",
    "X_test_seq = tokenizer.texts_to_sequences(X_test)\n",
    "\n",
    "# 패딩\n",
    "max_len = max(len(l) for l in X_train_seq)\n",
    "X_train_pad = pad_sequences(X_train_seq, maxlen=max_len)\n",
    "X_test_pad = pad_sequences(X_test_seq, maxlen=max_len)\n",
    "\n",
    "# 모델 생성\n",
    "model = Sequential()\n",
    "model.add(Embedding(len(tokenizer.word_index)+1, 128))\n",
    "model.add(GRU(128))\n",
    "model.add(Dense(1, activation='sigmoid'))\n",
    "\n",
    "# 모델 컴파일\n",
    "model.compile(loss='binary_crossentropy', optimizer='adam', metrics=['accuracy'])\n",
    "\n",
    "# 모델 학습\n",
    "model.fit(X_train_pad, y_train, validation_data=(X_test_pad, y_test), epochs=10)"
   ]
  }
 ],
 "metadata": {
  "language_info": {
   "name": "python"
  },
  "orig_nbformat": 4
 },
 "nbformat": 4,
 "nbformat_minor": 2
}
