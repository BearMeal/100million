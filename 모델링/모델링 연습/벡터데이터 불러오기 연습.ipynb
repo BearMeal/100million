{
  "cells": [
    {
      "cell_type": "code",
      "execution_count": 6,
      "metadata": {},
      "outputs": [
        {
          "data": {
            "text/plain": [
              "['아', '더빙', '..', '진짜', '짜증나네요', '목소리']"
            ]
          },
          "execution_count": 6,
          "metadata": {},
          "output_type": "execute_result"
        }
      ],
      "source": [
        "from konlpy.tag import Okt\n",
        "from sklearn.feature_extraction.text import TfidfVectorizer\n",
        "import pickle\n",
        "\n",
        "corpus = [\n",
        "    '아 더빙.. 진짜 짜증나네요 목소리',\n",
        "    '흠...포스터보고 초딩영화줄....오버연기조차 가볍지 않구나',\n",
        "    '너무재밓었다그래서보는것을추천한다',\n",
        "    '교도소 이야기구먼 ..솔직히 재미는 없다..평점 조정',\n",
        "]\n",
        "\n",
        "okt = Okt()\n",
        "tokenized_corpus = [' '.join(okt.morphs(text)) for text in corpus]\n",
        "tokenized_corpus\n",
        "\n",
        "okt.morphs(tokenized_corpus[0])\n",
        "\n"
      ]
    },
    {
      "attachments": {},
      "cell_type": "markdown",
      "metadata": {},
      "source": [
        "1. okt().morphs 토큰화를 먼저하고 저장\n",
        "2. vectorizer도 저장된 토큰에 fit_transform하고 저장\n",
        "\n",
        "그러면 모델학습 테스트 데이터\n",
        "1. okt().morphs 토큰화를 먼저하고\n",
        "2. 불러온 vectorizer객체에 transform()해서 model.predict에 넣기\n"
      ]
    },
    {
      "cell_type": "code",
      "execution_count": null,
      "metadata": {},
      "outputs": [],
      "source": []
    },
    {
      "cell_type": "code",
      "execution_count": 1,
      "metadata": {
        "id": "FlJcCm9HtWrN"
      },
      "outputs": [],
      "source": [
        "# 3_21 모델학습 후 예측한 결과가 심통치않아 새로 전처리 해보기로 하였다.\n",
        "# 벡터를 이용한 모델을 생성해서 문자열 값을 리턴 받아보자.\n",
        "from tensorflow.keras.models import *\n",
        "from tensorflow.keras.layers import *\n",
        "import tensorflow as tf\n",
        "import numpy as np\n",
        "\n",
        "#1. Naver Sentiment Movie Corpus v1.0 다운로드\n",
        "train_file = tf.keras.utils.get_file('train.txt', 'https://raw.githubusercontent.com/e9t/nsmc/master/ratings_train.txt')\n",
        "test_file = tf.keras.utils.get_file( 'test.txt',  'https://raw.githubusercontent.com/e9t/nsmc/master/ratings_test.txt')\n",
        "\n",
        "#파일을 이진모드로 읽어온다. 디코드는 utf8로한다.\n",
        "train_text = open(train_file,'rb').read().decode(encoding='utf-8')\n",
        "test_text = open(test_file,'rb').read().decode(encoding='utf-8')\n",
        "\n"
      ]
    },
    {
      "cell_type": "code",
      "execution_count": 2,
      "metadata": {
        "id": "DUl7FhWgqpD6"
      },
      "outputs": [],
      "source": [
        "import pandas as pd\n",
        "#x,y값을 추출후 데이터프레임에 넣는다.\n",
        "# X 값 추출 피쳐feature, y값 추출target \n",
        "\n",
        "df_train = pd.DataFrame({\n",
        "    'feature':[row.split('\\t')[1] for row in train_text.split('\\n')[1:] if row.count('\\t')>0],\n",
        "    'target': [ int(row.split('\\t')[2]) for row in train_text.split('\\n')[1:] if row.count('\\t')>0]\n",
        "})\n"
      ]
    },
    {
      "cell_type": "code",
      "execution_count": 3,
      "metadata": {
        "id": "mBR183hBxXp8"
      },
      "outputs": [],
      "source": [
        "# df_train.iloc[:,0]\n",
        "from konlpy.tag import Okt\n",
        "\n",
        "#문장을 토큰화한것만 따로 저장\n",
        "# tokenized_data =[]\n",
        "\n",
        "# for i in df_train.iloc[:,0]:\n",
        "#     tokenized_data.append(Okt().morphs( i ))"
      ]
    },
    {
      "cell_type": "code",
      "execution_count": 4,
      "metadata": {
        "id": "ISZRI5jd1ViB"
      },
      "outputs": [],
      "source": [
        "import pickle\n",
        "\n",
        "#토근화된 데이터를 저장하였음\n",
        "# with open('tokenized_data.pkl','wb') as f:\n",
        "#     pickle.dump(tokenized_data,f)\n",
        "\n",
        "#토큰화된 데이터 불러오기\n",
        "# with open('tokenized_data.pkl','rb') as f:\n",
        "#     tokenized_data_loaded = pickle.load(f)\n",
        "\n",
        "# tokenized_data_loaded"
      ]
    },
    {
      "cell_type": "code",
      "execution_count": 5,
      "metadata": {
        "colab": {
          "base_uri": "https://localhost:8080/"
        },
        "id": "Sb3u5TZqqpD7",
        "outputId": "bc835d99-5d1e-4fe3-e2fb-00b681fb8624"
      },
      "outputs": [
        {
          "name": "stderr",
          "output_type": "stream",
          "text": [
            "c:\\Users\\uk246\\AppData\\Local\\Programs\\Python\\Python310\\lib\\site-packages\\sklearn\\feature_extraction\\text.py:528: UserWarning: The parameter 'token_pattern' will not be used since 'tokenizer' is not None'\n",
            "  warnings.warn(\n"
          ]
        }
      ],
      "source": [
        "#라벨별로 분리해본것\n",
        "bad = df_train[df_train.iloc[:,1]==0]\n",
        "good = df_train[df_train.iloc[:,1]==1]\n",
        "\n",
        "\n",
        "df_train = df_train[::4]\n",
        "\n",
        "from sklearn.feature_extraction.text import TfidfVectorizer\n",
        "from konlpy.tag import Okt\n",
        "\n",
        "vectorizer=TfidfVectorizer(tokenizer=Okt().morphs)\n",
        "X = vectorizer.fit_transform( df_train.iloc[:,0])\n",
        "y = df_train.iloc[:,1]\n"
      ]
    },
    {
      "cell_type": "code",
      "execution_count": 6,
      "metadata": {
        "colab": {
          "base_uri": "https://localhost:8080/"
        },
        "id": "eUU3nDwiFMxz",
        "outputId": "975a9dab-bb12-4ac6-db51-3a357ed28ae2"
      },
      "outputs": [
        {
          "data": {
            "text/plain": [
              "(37500, 2)"
            ]
          },
          "execution_count": 6,
          "metadata": {},
          "output_type": "execute_result"
        }
      ],
      "source": [
        "df_train[df_train.iloc[:,1]==0]  #18678 \n",
        "df_train[df_train.iloc[:,1]==1]  #18822\n",
        "df_train.shape"
      ]
    },
    {
      "cell_type": "code",
      "execution_count": 7,
      "metadata": {
        "id": "HNlUM_Fa4WPX"
      },
      "outputs": [],
      "source": [
        "# 토큰화하고 빈도수(tfidf)에 기반한 벡터표현이 생성된 X를 따로저장\n",
        "from scipy.sparse import save_npz ,load_npz\n",
        "\n",
        "#vectorizer.fit_transform한것을 희소행렬로로 저장\n",
        "# save_npz('37500개_vectorized_data.npz', X)\n",
        "\n",
        "#저장된 희소행렬을 불러오기\n",
        "# X_loaded = load_npz('37500개_vectorized_data.npz')\n",
        "\n",
        "#이렇게 불러온 X_loaded는 바로 모델학습에 사용가능\n"
      ]
    },
    {
      "cell_type": "code",
      "execution_count": 8,
      "metadata": {
        "id": "WXsMQ5HmuoR1"
      },
      "outputs": [],
      "source": [
        "import numpy as np\n",
        "X_train_dense = np.expand_dims( X.toarray(), axis=-1 )\n",
        "# X_train_dense.shape\n",
        "# X_loaded.shape[1]\n",
        "# X_loaded.toarray().shape[1]"
      ]
    },
    {
      "cell_type": "code",
      "execution_count": 9,
      "metadata": {
        "id": "Ge7NOgY8uoKe"
      },
      "outputs": [
        {
          "name": "stderr",
          "output_type": "stream",
          "text": [
            "c:\\Users\\uk246\\AppData\\Local\\Programs\\Python\\Python310\\lib\\site-packages\\keras\\engine\\data_adapter.py:1696: FutureWarning: The behavior of `series[i:j]` with an integer-dtype index is deprecated. In a future version, this will be treated as *label-based* indexing, consistent with e.g. `series[i]` lookups. To retain the old behavior, use `series.iloc[i:j]`. To get the future behavior, use `series.loc[i:j]`.\n",
            "  return t[start:end]\n"
          ]
        },
        {
          "name": "stdout",
          "output_type": "stream",
          "text": [
            "Epoch 1/10\n",
            "1313/1313 [==============================] - 44s 30ms/step - loss: 0.5788 - accuracy: 0.7039 - val_loss: 0.4331 - val_accuracy: 0.8047\n",
            "Epoch 2/10\n",
            "1313/1313 [==============================] - 30s 23ms/step - loss: 0.4476 - accuracy: 0.7979 - val_loss: 0.4013 - val_accuracy: 0.8164\n",
            "Epoch 3/10\n",
            "1313/1313 [==============================] - 28s 22ms/step - loss: 0.4056 - accuracy: 0.8261 - val_loss: 0.3935 - val_accuracy: 0.8208\n",
            "Epoch 4/10\n",
            "1313/1313 [==============================] - 29s 22ms/step - loss: 0.3737 - accuracy: 0.8421 - val_loss: 0.3940 - val_accuracy: 0.8219\n",
            "Epoch 5/10\n",
            "1313/1313 [==============================] - 26s 20ms/step - loss: 0.3584 - accuracy: 0.8526 - val_loss: 0.4147 - val_accuracy: 0.8083\n",
            "Epoch 6/10\n",
            "1313/1313 [==============================] - 29s 22ms/step - loss: 0.3678 - accuracy: 0.8474 - val_loss: 0.3993 - val_accuracy: 0.8182\n",
            "Epoch 7/10\n",
            "1313/1313 [==============================] - 29s 22ms/step - loss: 0.3398 - accuracy: 0.8645 - val_loss: 0.4036 - val_accuracy: 0.8241\n",
            "Epoch 8/10\n",
            "1313/1313 [==============================] - 30s 23ms/step - loss: 0.3055 - accuracy: 0.8827 - val_loss: 0.4139 - val_accuracy: 0.8140\n",
            "Epoch 9/10\n",
            "1313/1313 [==============================] - 31s 24ms/step - loss: 0.3097 - accuracy: 0.8781 - val_loss: 0.4271 - val_accuracy: 0.8140\n",
            "Epoch 10/10\n",
            "1313/1313 [==============================] - 31s 23ms/step - loss: 0.2938 - accuracy: 0.8865 - val_loss: 0.4177 - val_accuracy: 0.8185\n"
          ]
        },
        {
          "data": {
            "text/plain": [
              "<keras.callbacks.History at 0x222a889d390>"
            ]
          },
          "execution_count": 9,
          "metadata": {},
          "output_type": "execute_result"
        }
      ],
      "source": [
        "import tensorflow as tf\n",
        "from tensorflow.keras.models import Sequential\n",
        "from tensorflow.keras.layers import Dense, BatchNormalization , Input, Dropout\n",
        "# from tensorflow.keras import Input\n",
        "# 모델 구성deep nueral network\n",
        "# input_layer = Input(shape=(X_loaded.shape[1],), sparse=True)\n",
        "\n",
        "#flatten 사용하는것 알아보기\n",
        "\n",
        "model = Sequential([\n",
        "    # input_layer,\n",
        "    Input(shape=(X_train_dense.shape[1],)),\n",
        "    Dense(64, activation='relu'),\n",
        "    BatchNormalization(),\n",
        "    Dropout(0.6),\n",
        "    Dense(32, activation='relu'),\n",
        "    BatchNormalization(),\n",
        "    Dropout(0.6),\n",
        "    Dense(1, activation='sigmoid')\n",
        "])\n",
        "\n",
        "# 모델 컴파일 및 학습\n",
        "model.compile(optimizer='sgd', loss='binary_crossentropy', metrics=['accuracy'])\n",
        "\n",
        "# model.fit(X.toarray(), y, epochs = 10, batch_size = 500, validation_split=0.2)  #0.8417\n",
        "model.fit(X.toarray(), y, epochs = 10, batch_size = 20, validation_split=0.3)  #0.8417"
      ]
    },
    {
      "cell_type": "code",
      "execution_count": 10,
      "metadata": {
        "id": "Bl6oAcdct68I"
      },
      "outputs": [
        {
          "name": "stdout",
          "output_type": "stream",
          "text": [
            "1/1 [==============================] - 0s 464ms/step\n",
            "[[0.03403642]]\n",
            "예측 결과: [[0]]\n"
          ]
        }
      ],
      "source": [
        "test = ['정말 별로 입니다. 이게뭐니']\n",
        "\n",
        "# 학습된 TF-IDF 벡터라이저로 테스트 데이터 변환\n",
        "X_test_sample = vectorizer.transform(test)\n",
        "X_test_sample_dense = X_test_sample.toarray()\n",
        "\n",
        "# 모델을 사용하여 예측 수행\n",
        "predictions = model.predict(X_test_sample_dense)\n",
        "print(predictions)\n",
        "\n",
        "# 예측 결과 출력 (긍정: 1, 부정: 0)\n",
        "print(\"예측 결과:\", np.round( predictions ).astype(int))"
      ]
    },
    {
      "attachments": {},
      "cell_type": "markdown",
      "metadata": {},
      "source": [
        "닉네임기준으로 \n",
        "카톡대화내용을 기준으로 테스트 문장을 여러개 불러와서 예측 후 그 값의 비율을 계산 출력해준다."
      ]
    },
    {
      "cell_type": "code",
      "execution_count": 11,
      "metadata": {
        "id": "0EClS3xeynli"
      },
      "outputs": [],
      "source": [
        "# model.save('기본 DNN 적용모델.h5')"
      ]
    }
  ],
  "metadata": {
    "accelerator": "GPU",
    "colab": {
      "provenance": []
    },
    "gpuClass": "standard",
    "kernelspec": {
      "display_name": "Python 3",
      "name": "python3"
    },
    "language_info": {
      "codemirror_mode": {
        "name": "ipython",
        "version": 3
      },
      "file_extension": ".py",
      "mimetype": "text/x-python",
      "name": "python",
      "nbconvert_exporter": "python",
      "pygments_lexer": "ipython3",
      "version": "3.10.6"
    }
  },
  "nbformat": 4,
  "nbformat_minor": 0
}
