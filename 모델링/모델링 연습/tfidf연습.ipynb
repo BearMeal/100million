{
  "cells": [
    {
      "cell_type": "markdown",
      "metadata": {
        "id": "Z5iox9kcqpD1"
      },
      "source": [
        "진호님이 일단 실행되게끔 만들어 본것"
      ]
    },
    {
      "cell_type": "code",
      "execution_count": 2,
      "metadata": {
        "colab": {
          "base_uri": "https://localhost:8080/"
        },
        "id": "glBvON29q6q7",
        "outputId": "808af61f-df45-4bfd-e53b-ab32fd5d3410"
      },
      "outputs": [],
      "source": [
        "# !pip install konlpy"
      ]
    },
    {
      "cell_type": "code",
      "execution_count": 1,
      "metadata": {
        "id": "FlJcCm9HtWrN"
      },
      "outputs": [],
      "source": [
        "# 3_21 모델학습 후 예측한 결과가 심통치않아 새로 전처리 해보기로 하였다.\n",
        "# 벡터를 이용한 모델을 생성해서 문자열 값을 리턴 받아보자.\n",
        "from tensorflow.keras.models import *\n",
        "from tensorflow.keras.layers import *\n",
        "import tensorflow as tf\n",
        "import numpy as np\n",
        "\n",
        "#1. Naver Sentiment Movie Corpus v1.0 다운로드\n",
        "train_file = tf.keras.utils.get_file('train.txt', 'https://raw.githubusercontent.com/e9t/nsmc/master/ratings_train.txt')\n",
        "test_file = tf.keras.utils.get_file( 'test.txt',  'https://raw.githubusercontent.com/e9t/nsmc/master/ratings_test.txt')\n",
        "\n",
        "#파일을 이진모드로 읽어온다. 디코드는 utf8로한다.\n",
        "train_text = open(train_file,'rb').read().decode(encoding='utf-8')\n",
        "test_text = open(test_file,'rb').read().decode(encoding='utf-8')\n",
        "\n"
      ]
    },
    {
      "cell_type": "code",
      "execution_count": 2,
      "metadata": {
        "id": "DUl7FhWgqpD6"
      },
      "outputs": [],
      "source": [
        "import pandas as pd\n",
        "#x,y값을 추출후 데이터프레임에 넣는다.\n",
        "# X 값 추출 피쳐feature, y값 추출target \n",
        "\n",
        "df_train = pd.DataFrame({\n",
        "    'feature':[row.split('\\t')[1] for row in train_text.split('\\n')[1:] if row.count('\\t')>0],\n",
        "    'target': [ int(row.split('\\t')[2]) for row in train_text.split('\\n')[1:] if row.count('\\t')>0]\n",
        "})\n"
      ]
    },
    {
      "cell_type": "code",
      "execution_count": 3,
      "metadata": {
        "id": "mBR183hBxXp8"
      },
      "outputs": [],
      "source": [
        "# df_train.iloc[:,0]\n",
        "from konlpy.tag import Okt\n",
        "\n",
        "#문장을 토큰화한것만 따로 저장\n",
        "# tokenized_data =[]\n",
        "\n",
        "# for i in df_train.iloc[:,0]:\n",
        "#     tokenized_data.append(Okt().morphs( i ))"
      ]
    },
    {
      "cell_type": "code",
      "execution_count": 4,
      "metadata": {
        "id": "ISZRI5jd1ViB"
      },
      "outputs": [],
      "source": [
        "import pickle\n",
        "\n",
        "#토근화된 데이터를 저장하였음\n",
        "# with open('tokenized_data.pkl','wb') as f:\n",
        "#     pickle.dump(tokenized_data,f)\n",
        "\n",
        "#토큰화된 데이터 불러오기\n",
        "# with open('tokenized_data.pkl','rb') as f:\n",
        "#     tokenized_data_loaded = pickle.load(f)\n",
        "\n",
        "# tokenized_data_loaded"
      ]
    },
    {
      "cell_type": "code",
      "execution_count": 5,
      "metadata": {
        "colab": {
          "base_uri": "https://localhost:8080/"
        },
        "id": "Sb3u5TZqqpD7",
        "outputId": "bc835d99-5d1e-4fe3-e2fb-00b681fb8624"
      },
      "outputs": [
        {
          "name": "stderr",
          "output_type": "stream",
          "text": [
            "c:\\Users\\uk246\\AppData\\Local\\Programs\\Python\\Python310\\lib\\site-packages\\sklearn\\feature_extraction\\text.py:528: UserWarning: The parameter 'token_pattern' will not be used since 'tokenizer' is not None'\n",
            "  warnings.warn(\n"
          ]
        }
      ],
      "source": [
        "#라벨별로 분리해본것\n",
        "bad = df_train[df_train.iloc[:,1]==0]\n",
        "good = df_train[df_train.iloc[:,1]==1]\n",
        "\n",
        "\n",
        "df_train = df_train[::5]\n",
        "\n",
        "from sklearn.feature_extraction.text import TfidfVectorizer\n",
        "from konlpy.tag import Okt\n",
        "\n",
        "vectorizer=TfidfVectorizer(tokenizer=Okt().morphs)\n",
        "X = vectorizer.fit_transform( df_train.iloc[:,0])\n",
        "y = df_train.iloc[:,1]\n"
      ]
    },
    {
      "cell_type": "code",
      "execution_count": 8,
      "metadata": {
        "colab": {
          "base_uri": "https://localhost:8080/"
        },
        "id": "eUU3nDwiFMxz",
        "outputId": "975a9dab-bb12-4ac6-db51-3a357ed28ae2"
      },
      "outputs": [
        {
          "data": {
            "text/plain": [
              "(37500, 2)"
            ]
          },
          "execution_count": 8,
          "metadata": {},
          "output_type": "execute_result"
        }
      ],
      "source": [
        "df_train[df_train.iloc[:,1]==0]  #18678 \n",
        "df_train[df_train.iloc[:,1]==1]  #18822\n",
        "df_train.shape"
      ]
    },
    {
      "cell_type": "code",
      "execution_count": 9,
      "metadata": {
        "id": "HNlUM_Fa4WPX"
      },
      "outputs": [],
      "source": [
        "# 토큰화하고 빈도수(tfidf)에 기반한 벡터표현이 생성된 X를 따로저장\n",
        "from scipy.sparse import save_npz ,load_npz\n",
        "\n",
        "#vectorizer.fit_transform한것을 희소행렬로로 저장\n",
        "# save_npz('37500개_vectorized_data.npz', X)\n",
        "\n",
        "#저장된 희소행렬을 불러오기\n",
        "# X_loaded = load_npz('37500개_vectorized_data.npz')\n",
        "\n",
        "#이렇게 불러온 X_loaded는 바로 모델학습에 사용가능\n"
      ]
    },
    {
      "cell_type": "code",
      "execution_count": 10,
      "metadata": {
        "id": "WXsMQ5HmuoR1"
      },
      "outputs": [],
      "source": [
        "import numpy as np\n",
        "X_train_dense = np.expand_dims( X.toarray(), axis=-1 )\n",
        "# X_train_dense.shape\n",
        "# X_loaded.shape[1]\n",
        "# X_loaded.toarray().shape[1]"
      ]
    },
    {
      "cell_type": "code",
      "execution_count": 12,
      "metadata": {
        "id": "Ge7NOgY8uoKe"
      },
      "outputs": [
        {
          "name": "stdout",
          "output_type": "stream",
          "text": [
            "Epoch 1/10\n",
            "1313/1313 [==============================] - 46s 31ms/step - loss: 0.5839 - accuracy: 0.7071 - val_loss: 0.4358 - val_accuracy: 0.8067\n",
            "Epoch 2/10\n",
            "1313/1313 [==============================] - 31s 23ms/step - loss: 0.4466 - accuracy: 0.7986 - val_loss: 0.3997 - val_accuracy: 0.8213\n",
            "Epoch 3/10\n",
            "1313/1313 [==============================] - 31s 24ms/step - loss: 0.3906 - accuracy: 0.8346 - val_loss: 0.4041 - val_accuracy: 0.8149\n",
            "Epoch 4/10\n",
            "1313/1313 [==============================] - 29s 22ms/step - loss: 0.3596 - accuracy: 0.8528 - val_loss: 0.3872 - val_accuracy: 0.8245\n",
            "Epoch 5/10\n",
            "1313/1313 [==============================] - 31s 23ms/step - loss: 0.3287 - accuracy: 0.8686 - val_loss: 0.4150 - val_accuracy: 0.8080\n",
            "Epoch 6/10\n",
            "1313/1313 [==============================] - 29s 22ms/step - loss: 0.3157 - accuracy: 0.8730 - val_loss: 0.4016 - val_accuracy: 0.8238\n",
            "Epoch 7/10\n",
            "1313/1313 [==============================] - 34s 26ms/step - loss: 0.3192 - accuracy: 0.8717 - val_loss: 0.4511 - val_accuracy: 0.7932\n",
            "Epoch 8/10\n",
            "1313/1313 [==============================] - 29s 22ms/step - loss: 0.3099 - accuracy: 0.8787 - val_loss: 0.4308 - val_accuracy: 0.8163\n",
            "Epoch 9/10\n",
            "1313/1313 [==============================] - 26s 20ms/step - loss: 0.2801 - accuracy: 0.8930 - val_loss: 0.4486 - val_accuracy: 0.8116\n",
            "Epoch 10/10\n",
            "1313/1313 [==============================] - 32s 24ms/step - loss: 0.2895 - accuracy: 0.8878 - val_loss: 0.4271 - val_accuracy: 0.8212\n"
          ]
        },
        {
          "data": {
            "text/plain": [
              "<keras.callbacks.History at 0x2cb01af06d0>"
            ]
          },
          "execution_count": 12,
          "metadata": {},
          "output_type": "execute_result"
        }
      ],
      "source": [
        "import tensorflow as tf\n",
        "from tensorflow.keras.models import Sequential\n",
        "from tensorflow.keras.layers import Dense, BatchNormalization , Input, Dropout\n",
        "# from tensorflow.keras import Input\n",
        "# 모델 구성deep nueral network\n",
        "# input_layer = Input(shape=(X_loaded.shape[1],), sparse=True)\n",
        "\n",
        "#flatten 사용하는것 알아보기\n",
        "\n",
        "model = Sequential([\n",
        "    # input_layer,\n",
        "    Input(shape=(X_train_dense.shape[1],)),\n",
        "    Dense(64, activation='relu'),\n",
        "    BatchNormalization(),\n",
        "    Dropout(0.6),\n",
        "    Dense(32, activation='relu'),\n",
        "    BatchNormalization(),\n",
        "    Dropout(0.6),\n",
        "    Dense(1, activation='sigmoid')\n",
        "])\n",
        "\n",
        "# 모델 컴파일 및 학습\n",
        "model.compile(optimizer='sgd', loss='binary_crossentropy', metrics=['accuracy'])\n",
        "\n",
        "# model.fit(X.toarray(), y, epochs = 10, batch_size = 500, validation_split=0.2)  #0.8417\n",
        "model.fit(X.toarray(), y, epochs = 10, batch_size = 20, validation_split=0.3)  #0.8417"
      ]
    },
    {
      "cell_type": "code",
      "execution_count": 107,
      "metadata": {
        "id": "Bl6oAcdct68I"
      },
      "outputs": [
        {
          "name": "stdout",
          "output_type": "stream",
          "text": [
            "1/1 [==============================] - 0s 49ms/step\n",
            "[[0.01700829]]\n",
            "예측 결과: [[0]]\n"
          ]
        }
      ],
      "source": [
        "test = ['정말 별로 입니다. 이게뭐니']\n",
        "\n",
        "# 학습된 TF-IDF 벡터라이저로 테스트 데이터 변환\n",
        "X_test_sample = vectorizer.transform(test)\n",
        "X_test_sample_dense = X_test_sample.toarray()\n",
        "\n",
        "# 모델을 사용하여 예측 수행\n",
        "predictions = model.predict(X_test_sample_dense)\n",
        "print(predictions)\n",
        "\n",
        "# 예측 결과 출력 (긍정: 1, 부정: 0)\n",
        "print(\"예측 결과:\", np.round( predictions ).astype(int))"
      ]
    },
    {
      "attachments": {},
      "cell_type": "markdown",
      "metadata": {},
      "source": [
        "닉네임기준으로 \n",
        "카톡대화내용을 기준으로 테스트 문장을 여러개 불러와서 예측 후 그 값의 비율을 계산 출력해준다."
      ]
    },
    {
      "cell_type": "code",
      "execution_count": 25,
      "metadata": {
        "id": "0EClS3xeynli"
      },
      "outputs": [],
      "source": [
        "# model.save('기본 DNN 적용모델.h5')"
      ]
    }
  ],
  "metadata": {
    "accelerator": "GPU",
    "colab": {
      "provenance": []
    },
    "gpuClass": "standard",
    "kernelspec": {
      "display_name": "Python 3",
      "name": "python3"
    },
    "language_info": {
      "codemirror_mode": {
        "name": "ipython",
        "version": 3
      },
      "file_extension": ".py",
      "mimetype": "text/x-python",
      "name": "python",
      "nbconvert_exporter": "python",
      "pygments_lexer": "ipython3",
      "version": "3.10.6"
    }
  },
  "nbformat": 4,
  "nbformat_minor": 0
}
