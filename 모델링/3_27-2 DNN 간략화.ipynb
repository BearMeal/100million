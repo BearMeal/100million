{
  "cells": [
    {
      "attachments": {},
      "cell_type": "markdown",
      "metadata": {},
      "source": [
        "진호님이 일단 실행되게끔 만들어 본것"
      ]
    },
    {
      "cell_type": "code",
      "execution_count": 1,
      "metadata": {
        "colab": {
          "base_uri": "https://localhost:8080/"
        },
        "id": "FlJcCm9HtWrN",
        "outputId": "0c658e73-8ec1-4017-cbfe-f7e4aa637c6f"
      },
      "outputs": [],
      "source": [
        "# 3_21 모델학습 후 예측한 결과가 심통치않아 새로 전처리 해보기로 하였다.\n",
        "# 벡터를 이용한 모델을 생성해서 문자열 값을 리턴 받아보자.\n",
        "from tensorflow.keras.models import *\n",
        "from tensorflow.keras.layers import *\n",
        "import tensorflow as tf\n",
        "import numpy as np\n",
        "\n",
        "#1. Naver Sentiment Movie Corpus v1.0 다운로드\n",
        "train_file = tf.keras.utils.get_file('train.txt', 'https://raw.githubusercontent.com/e9t/nsmc/master/ratings_train.txt')\n",
        "test_file = tf.keras.utils.get_file( 'test.txt',  'https://raw.githubusercontent.com/e9t/nsmc/master/ratings_test.txt')\n",
        "\n",
        "#파일을 이진모드로 읽어온다. 디코드는 utf8로한다.\n",
        "train_text = open(train_file,'rb').read().decode(encoding='utf-8')\n",
        "test_text = open(test_file,'rb').read().decode(encoding='utf-8')\n",
        "\n"
      ]
    },
    {
      "cell_type": "code",
      "execution_count": 2,
      "metadata": {},
      "outputs": [],
      "source": [
        "import pandas as pd\n",
        "#x,y값을 추출후 데이터프레임에 넣는다.\n",
        "# X 값 추출 피쳐feature, y값 추출target \n",
        "\n",
        "df_train = pd.DataFrame({\n",
        "    'feature':[row.split('\\t')[1] for row in train_text.split('\\n')[1:] if row.count('\\t')>0],\n",
        "    'target': [ int(row.split('\\t')[2]) for row in train_text.split('\\n')[1:] if row.count('\\t')>0]\n",
        "})\n"
      ]
    },
    {
      "cell_type": "code",
      "execution_count": 3,
      "metadata": {},
      "outputs": [
        {
          "data": {
            "text/html": [
              "<div>\n",
              "<style scoped>\n",
              "    .dataframe tbody tr th:only-of-type {\n",
              "        vertical-align: middle;\n",
              "    }\n",
              "\n",
              "    .dataframe tbody tr th {\n",
              "        vertical-align: top;\n",
              "    }\n",
              "\n",
              "    .dataframe thead th {\n",
              "        text-align: right;\n",
              "    }\n",
              "</style>\n",
              "<table border=\"1\" class=\"dataframe\">\n",
              "  <thead>\n",
              "    <tr style=\"text-align: right;\">\n",
              "      <th></th>\n",
              "      <th>feature</th>\n",
              "      <th>target</th>\n",
              "    </tr>\n",
              "  </thead>\n",
              "  <tbody>\n",
              "    <tr>\n",
              "      <th>0</th>\n",
              "      <td>아 더빙.. 진짜 짜증나네요 목소리</td>\n",
              "      <td>0</td>\n",
              "    </tr>\n",
              "    <tr>\n",
              "      <th>1</th>\n",
              "      <td>흠...포스터보고 초딩영화줄....오버연기조차 가볍지 않구나</td>\n",
              "      <td>1</td>\n",
              "    </tr>\n",
              "    <tr>\n",
              "      <th>2</th>\n",
              "      <td>너무재밓었다그래서보는것을추천한다</td>\n",
              "      <td>0</td>\n",
              "    </tr>\n",
              "    <tr>\n",
              "      <th>3</th>\n",
              "      <td>교도소 이야기구먼 ..솔직히 재미는 없다..평점 조정</td>\n",
              "      <td>0</td>\n",
              "    </tr>\n",
              "    <tr>\n",
              "      <th>4</th>\n",
              "      <td>사이몬페그의 익살스런 연기가 돋보였던 영화!스파이더맨에서 늙어보이기만 했던 커스틴 ...</td>\n",
              "      <td>1</td>\n",
              "    </tr>\n",
              "    <tr>\n",
              "      <th>...</th>\n",
              "      <td>...</td>\n",
              "      <td>...</td>\n",
              "    </tr>\n",
              "    <tr>\n",
              "      <th>149995</th>\n",
              "      <td>인간이 문제지.. 소는 뭔죄인가..</td>\n",
              "      <td>0</td>\n",
              "    </tr>\n",
              "    <tr>\n",
              "      <th>149996</th>\n",
              "      <td>평점이 너무 낮아서...</td>\n",
              "      <td>1</td>\n",
              "    </tr>\n",
              "    <tr>\n",
              "      <th>149997</th>\n",
              "      <td>이게 뭐요? 한국인은 거들먹거리고 필리핀 혼혈은 착하다?</td>\n",
              "      <td>0</td>\n",
              "    </tr>\n",
              "    <tr>\n",
              "      <th>149998</th>\n",
              "      <td>청춘 영화의 최고봉.방황과 우울했던 날들의 자화상</td>\n",
              "      <td>1</td>\n",
              "    </tr>\n",
              "    <tr>\n",
              "      <th>149999</th>\n",
              "      <td>한국 영화 최초로 수간하는 내용이 담긴 영화</td>\n",
              "      <td>0</td>\n",
              "    </tr>\n",
              "  </tbody>\n",
              "</table>\n",
              "<p>150000 rows × 2 columns</p>\n",
              "</div>"
            ],
            "text/plain": [
              "                                                  feature  target\n",
              "0                                     아 더빙.. 진짜 짜증나네요 목소리       0\n",
              "1                       흠...포스터보고 초딩영화줄....오버연기조차 가볍지 않구나       1\n",
              "2                                       너무재밓었다그래서보는것을추천한다       0\n",
              "3                           교도소 이야기구먼 ..솔직히 재미는 없다..평점 조정       0\n",
              "4       사이몬페그의 익살스런 연기가 돋보였던 영화!스파이더맨에서 늙어보이기만 했던 커스틴 ...       1\n",
              "...                                                   ...     ...\n",
              "149995                                인간이 문제지.. 소는 뭔죄인가..       0\n",
              "149996                                      평점이 너무 낮아서...       1\n",
              "149997                    이게 뭐요? 한국인은 거들먹거리고 필리핀 혼혈은 착하다?       0\n",
              "149998                        청춘 영화의 최고봉.방황과 우울했던 날들의 자화상       1\n",
              "149999                           한국 영화 최초로 수간하는 내용이 담긴 영화       0\n",
              "\n",
              "[150000 rows x 2 columns]"
            ]
          },
          "execution_count": 3,
          "metadata": {},
          "output_type": "execute_result"
        }
      ],
      "source": [
        "df_train\n",
        "# print(y_train[:3])"
      ]
    },
    {
      "cell_type": "code",
      "execution_count": 5,
      "metadata": {},
      "outputs": [
        {
          "data": {
            "text/html": [
              "<div>\n",
              "<style scoped>\n",
              "    .dataframe tbody tr th:only-of-type {\n",
              "        vertical-align: middle;\n",
              "    }\n",
              "\n",
              "    .dataframe tbody tr th {\n",
              "        vertical-align: top;\n",
              "    }\n",
              "\n",
              "    .dataframe thead th {\n",
              "        text-align: right;\n",
              "    }\n",
              "</style>\n",
              "<table border=\"1\" class=\"dataframe\">\n",
              "  <thead>\n",
              "    <tr style=\"text-align: right;\">\n",
              "      <th></th>\n",
              "      <th>feature</th>\n",
              "      <th>target</th>\n",
              "    </tr>\n",
              "  </thead>\n",
              "  <tbody>\n",
              "    <tr>\n",
              "      <th>0</th>\n",
              "      <td>아 더빙.. 진짜 짜증나네요 목소리</td>\n",
              "      <td>0</td>\n",
              "    </tr>\n",
              "    <tr>\n",
              "      <th>1</th>\n",
              "      <td>흠...포스터보고 초딩영화줄....오버연기조차 가볍지 않구나</td>\n",
              "      <td>1</td>\n",
              "    </tr>\n",
              "    <tr>\n",
              "      <th>2</th>\n",
              "      <td>너무재밓었다그래서보는것을추천한다</td>\n",
              "      <td>0</td>\n",
              "    </tr>\n",
              "    <tr>\n",
              "      <th>3</th>\n",
              "      <td>교도소 이야기구먼 ..솔직히 재미는 없다..평점 조정</td>\n",
              "      <td>0</td>\n",
              "    </tr>\n",
              "    <tr>\n",
              "      <th>4</th>\n",
              "      <td>사이몬페그의 익살스런 연기가 돋보였던 영화!스파이더맨에서 늙어보이기만 했던 커스틴 ...</td>\n",
              "      <td>1</td>\n",
              "    </tr>\n",
              "    <tr>\n",
              "      <th>...</th>\n",
              "      <td>...</td>\n",
              "      <td>...</td>\n",
              "    </tr>\n",
              "    <tr>\n",
              "      <th>149995</th>\n",
              "      <td>인간이 문제지.. 소는 뭔죄인가..</td>\n",
              "      <td>0</td>\n",
              "    </tr>\n",
              "    <tr>\n",
              "      <th>149996</th>\n",
              "      <td>평점이 너무 낮아서...</td>\n",
              "      <td>1</td>\n",
              "    </tr>\n",
              "    <tr>\n",
              "      <th>149997</th>\n",
              "      <td>이게 뭐요? 한국인은 거들먹거리고 필리핀 혼혈은 착하다?</td>\n",
              "      <td>0</td>\n",
              "    </tr>\n",
              "    <tr>\n",
              "      <th>149998</th>\n",
              "      <td>청춘 영화의 최고봉.방황과 우울했던 날들의 자화상</td>\n",
              "      <td>1</td>\n",
              "    </tr>\n",
              "    <tr>\n",
              "      <th>149999</th>\n",
              "      <td>한국 영화 최초로 수간하는 내용이 담긴 영화</td>\n",
              "      <td>0</td>\n",
              "    </tr>\n",
              "  </tbody>\n",
              "</table>\n",
              "<p>150000 rows × 2 columns</p>\n",
              "</div>"
            ],
            "text/plain": [
              "                                                  feature  target\n",
              "0                                     아 더빙.. 진짜 짜증나네요 목소리       0\n",
              "1                       흠...포스터보고 초딩영화줄....오버연기조차 가볍지 않구나       1\n",
              "2                                       너무재밓었다그래서보는것을추천한다       0\n",
              "3                           교도소 이야기구먼 ..솔직히 재미는 없다..평점 조정       0\n",
              "4       사이몬페그의 익살스런 연기가 돋보였던 영화!스파이더맨에서 늙어보이기만 했던 커스틴 ...       1\n",
              "...                                                   ...     ...\n",
              "149995                                인간이 문제지.. 소는 뭔죄인가..       0\n",
              "149996                                      평점이 너무 낮아서...       1\n",
              "149997                    이게 뭐요? 한국인은 거들먹거리고 필리핀 혼혈은 착하다?       0\n",
              "149998                        청춘 영화의 최고봉.방황과 우울했던 날들의 자화상       1\n",
              "149999                           한국 영화 최초로 수간하는 내용이 담긴 영화       0\n",
              "\n",
              "[150000 rows x 2 columns]"
            ]
          },
          "execution_count": 5,
          "metadata": {},
          "output_type": "execute_result"
        }
      ],
      "source": [
        "df_train.iloc[:,:]"
      ]
    },
    {
      "cell_type": "code",
      "execution_count": 11,
      "metadata": {},
      "outputs": [
        {
          "name": "stderr",
          "output_type": "stream",
          "text": [
            "c:\\Users\\uk246\\AppData\\Local\\Programs\\Python\\Python310\\lib\\site-packages\\sklearn\\feature_extraction\\text.py:528: UserWarning: The parameter 'token_pattern' will not be used since 'tokenizer' is not None'\n",
            "  warnings.warn(\n"
          ]
        }
      ],
      "source": [
        "#라벨별로 분리해본것\n",
        "bad = df_train[df_train.iloc[:,1]==0]\n",
        "good = df_train[df_train.iloc[:,1]==1]\n",
        "\n",
        "\n",
        "df_train = df_train[:10000]\n",
        "\n",
        "from sklearn.feature_extraction.text import TfidfVectorizer\n",
        "from konlpy.tag import Okt\n",
        "\n",
        "vectorizer=TfidfVectorizer(tokenizer=Okt().morphs)\n",
        "X = vectorizer.fit_transform( df_train.iloc[:,0])\n",
        "y = df_train.iloc[:,1]\n"
      ]
    },
    {
      "cell_type": "code",
      "execution_count": 12,
      "metadata": {},
      "outputs": [
        {
          "data": {
            "text/plain": [
              "array([[0., 0., 0., ..., 0., 0., 0.],\n",
              "       [0., 0., 0., ..., 0., 0., 0.],\n",
              "       [0., 0., 0., ..., 0., 0., 0.],\n",
              "       ...,\n",
              "       [0., 0., 0., ..., 0., 0., 0.],\n",
              "       [0., 0., 0., ..., 0., 0., 0.],\n",
              "       [0., 0., 0., ..., 0., 0., 0.]])"
            ]
          },
          "execution_count": 12,
          "metadata": {},
          "output_type": "execute_result"
        }
      ],
      "source": [
        "X.toarray()"
      ]
    },
    {
      "cell_type": "code",
      "execution_count": 15,
      "metadata": {
        "id": "WXsMQ5HmuoR1"
      },
      "outputs": [
        {
          "data": {
            "text/plain": [
              "(10000, 21840, 1)"
            ]
          },
          "execution_count": 15,
          "metadata": {},
          "output_type": "execute_result"
        }
      ],
      "source": [
        "import numpy as np\n",
        "X_train_dense = np.expand_dims( X.toarray(), axis=-1 )\n",
        "X_train_dense.shape"
      ]
    },
    {
      "cell_type": "code",
      "execution_count": 19,
      "metadata": {},
      "outputs": [
        {
          "data": {
            "text/plain": [
              "21840"
            ]
          },
          "execution_count": 19,
          "metadata": {},
          "output_type": "execute_result"
        }
      ],
      "source": [
        "# X_train_dense.squeeze().shape\n",
        "# X.toarray().shape\n",
        "X_train_dense.shape[1]"
      ]
    },
    {
      "cell_type": "code",
      "execution_count": 20,
      "metadata": {
        "colab": {
          "base_uri": "https://localhost:8080/"
        },
        "id": "Ge7NOgY8uoKe",
        "outputId": "662ff321-1bc4-48b9-9826-e9f1d2593c78"
      },
      "outputs": [
        {
          "name": "stdout",
          "output_type": "stream",
          "text": [
            "Epoch 1/10\n",
            "250/250 [==============================] - 15s 52ms/step - loss: 0.5527 - accuracy: 0.7514 - val_loss: 0.4342 - val_accuracy: 0.8090\n",
            "Epoch 2/10\n",
            "250/250 [==============================] - 13s 51ms/step - loss: 0.2483 - accuracy: 0.9196 - val_loss: 0.4088 - val_accuracy: 0.8035\n",
            "Epoch 3/10\n",
            "250/250 [==============================] - 12s 50ms/step - loss: 0.1122 - accuracy: 0.9734 - val_loss: 0.4357 - val_accuracy: 0.7975\n",
            "Epoch 4/10\n",
            "250/250 [==============================] - 11s 42ms/step - loss: 0.0583 - accuracy: 0.9891 - val_loss: 0.4708 - val_accuracy: 0.7910\n",
            "Epoch 5/10\n",
            "250/250 [==============================] - 12s 48ms/step - loss: 0.0353 - accuracy: 0.9940 - val_loss: 0.5004 - val_accuracy: 0.7925\n",
            "Epoch 6/10\n",
            "250/250 [==============================] - 11s 44ms/step - loss: 0.0236 - accuracy: 0.9961 - val_loss: 0.5345 - val_accuracy: 0.7910\n",
            "Epoch 7/10\n",
            "250/250 [==============================] - 11s 43ms/step - loss: 0.0170 - accuracy: 0.9970 - val_loss: 0.5633 - val_accuracy: 0.7890\n",
            "Epoch 8/10\n",
            "250/250 [==============================] - 11s 44ms/step - loss: 0.0132 - accuracy: 0.9971 - val_loss: 0.5923 - val_accuracy: 0.7875\n",
            "Epoch 9/10\n",
            "250/250 [==============================] - 12s 47ms/step - loss: 0.0106 - accuracy: 0.9974 - val_loss: 0.6229 - val_accuracy: 0.7905\n",
            "Epoch 10/10\n",
            "250/250 [==============================] - 12s 47ms/step - loss: 0.0092 - accuracy: 0.9974 - val_loss: 0.6478 - val_accuracy: 0.7905\n"
          ]
        },
        {
          "data": {
            "text/plain": [
              "<keras.callbacks.History at 0x1dd91983ac0>"
            ]
          },
          "execution_count": 20,
          "metadata": {},
          "output_type": "execute_result"
        }
      ],
      "source": [
        "import tensorflow as tf\n",
        "from tensorflow.keras.models import Sequential\n",
        "from tensorflow.keras.layers import Dense, Flatten, Input\n",
        "\n",
        "# 모델 구성deep nueral network\n",
        "model = Sequential([\n",
        "    Input(shape=(X_train_dense.shape[1],)),\n",
        "    Dense(128, activation='relu'),\n",
        "    Dense(1, activation='sigmoid')\n",
        "])\n",
        "\n",
        "# 모델 컴파일 및 학습\n",
        "model.compile(optimizer='adam', loss='binary_crossentropy', metrics=['accuracy'])\n",
        "\n",
        "model.fit(X_train_dense.squeeze(), y, epochs = 10, batch_size = 32, validation_split = 0.2)"
      ]
    },
    {
      "cell_type": "code",
      "execution_count": 22,
      "metadata": {
        "colab": {
          "base_uri": "https://localhost:8080/"
        },
        "id": "Bl6oAcdct68I",
        "outputId": "cc2e9c4d-ad4c-4d95-e0a4-33a75a801a52"
      },
      "outputs": [
        {
          "name": "stdout",
          "output_type": "stream",
          "text": [
            "1/1 [==============================] - 0s 46ms/step\n",
            "예측 결과: [[1]]\n"
          ]
        }
      ],
      "source": [
        "test = ['나는 너가 싫어']\n",
        "\n",
        "# 학습된 TF-IDF 벡터라이저로 테스트 데이터 변환\n",
        "X_test_sample = vectorizer.transform(test)\n",
        "X_test_sample_dense = X_test_sample.toarray()\n",
        "\n",
        "# 모델을 사용하여 예측 수행\n",
        "predictions = model.predict(X_test_sample_dense)\n",
        "predictions\n",
        "\n",
        "# 예측 결과 출력 (긍정: 1, 부정: 0)\n",
        "print(\"예측 결과:\", np.round( predictions ).astype(int))"
      ]
    },
    {
      "cell_type": "code",
      "execution_count": null,
      "metadata": {
        "colab": {
          "base_uri": "https://localhost:8080/",
          "height": 1000
        },
        "id": "0EClS3xeynli",
        "outputId": "adf9c07d-0f42-43fb-8ea0-f6b6f406a80d"
      },
      "outputs": [],
      "source": [
        "# model.save('기본 DNN 적용모델.h5')"
      ]
    }
  ],
  "metadata": {
    "accelerator": "GPU",
    "colab": {
      "provenance": []
    },
    "gpuClass": "standard",
    "kernelspec": {
      "display_name": "Python 3",
      "name": "python3"
    },
    "language_info": {
      "codemirror_mode": {
        "name": "ipython",
        "version": 3
      },
      "file_extension": ".py",
      "mimetype": "text/x-python",
      "name": "python",
      "nbconvert_exporter": "python",
      "pygments_lexer": "ipython3",
      "version": "3.10.6"
    }
  },
  "nbformat": 4,
  "nbformat_minor": 0
}
