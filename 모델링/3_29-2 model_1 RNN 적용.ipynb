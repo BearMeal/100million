{
  "cells": [
    {
      "cell_type": "code",
      "execution_count": 2,
      "metadata": {
        "id": "FlJcCm9HtWrN"
      },
      "outputs": [],
      "source": [
        "from tensorflow.keras.models import *\n",
        "from tensorflow.keras.layers import *\n",
        "import tensorflow as tf\n",
        "import numpy as np\n",
        "\n",
        "train_file = tf.keras.utils.get_file('train.txt', 'https://raw.githubusercontent.com/e9t/nsmc/master/ratings_train.txt')\n",
        "test_file = tf.keras.utils.get_file( 'test.txt',  'https://raw.githubusercontent.com/e9t/nsmc/master/ratings_test.txt')\n",
        "\n",
        "train_text = open(train_file,'rb').read().decode(encoding='utf-8')\n",
        "test_text = open(test_file,'rb').read().decode(encoding='utf-8')\n",
        "\n"
      ]
    },
    {
      "cell_type": "code",
      "execution_count": 3,
      "metadata": {
        "id": "DUl7FhWgqpD6"
      },
      "outputs": [],
      "source": [
        "import pandas as pd\n",
        "\n",
        "df_train = pd.DataFrame({\n",
        "    'feature':[row.split('\\t')[1] for row in train_text.split('\\n')[1:] if row.count('\\t')>0],\n",
        "    'target': [ int(row.split('\\t')[2]) for row in train_text.split('\\n')[1:] if row.count('\\t')>0]\n",
        "})\n"
      ]
    },
    {
      "cell_type": "code",
      "execution_count": 4,
      "metadata": {
        "id": "mBR183hBxXp8"
      },
      "outputs": [],
      "source": [
        "from konlpy.tag import Okt\n",
        "\n",
        "#문장을 토큰화한것만 따로 저장\n",
        "# tokenized_data =[]\n",
        "\n",
        "# for i in df_train.iloc[:,0]:\n",
        "#     tokenized_data.append(Okt().morphs( i ))"
      ]
    },
    {
      "cell_type": "code",
      "execution_count": 5,
      "metadata": {
        "id": "ISZRI5jd1ViB"
      },
      "outputs": [],
      "source": [
        "import pickle\n",
        "\n",
        "#토근화된 데이터를 저장하였음\n",
        "# with open('tokenized_data.pkl','wb') as f:\n",
        "#     pickle.dump(tokenized_data,f)\n",
        "\n",
        "#토큰화된 데이터 불러오기\n",
        "# with open('tokenized_data.pkl','rb') as f:\n",
        "#     tokenized_data_loaded = pickle.load(f)\n",
        "\n",
        "# tokenized_data_loaded"
      ]
    },
    {
      "cell_type": "code",
      "execution_count": 6,
      "metadata": {
        "colab": {
          "base_uri": "https://localhost:8080/"
        },
        "id": "Sb3u5TZqqpD7",
        "outputId": "bc835d99-5d1e-4fe3-e2fb-00b681fb8624"
      },
      "outputs": [],
      "source": [
        "from sklearn.feature_extraction.text import TfidfVectorizer\n",
        "from konlpy.tag import Okt\n",
        "\n",
        "df_train = df_train[::4]\n",
        "\n",
        "vectorizer=TfidfVectorizer(tokenizer=Okt().morphs)\n",
        "# X = vectorizer.fit_transform( df_train.iloc[:,0])\n",
        "y = df_train.iloc[:,1]\n"
      ]
    },
    {
      "cell_type": "code",
      "execution_count": 7,
      "metadata": {
        "colab": {
          "base_uri": "https://localhost:8080/"
        },
        "id": "eUU3nDwiFMxz",
        "outputId": "975a9dab-bb12-4ac6-db51-3a357ed28ae2"
      },
      "outputs": [
        {
          "data": {
            "text/plain": [
              "(37500, 2)"
            ]
          },
          "execution_count": 7,
          "metadata": {},
          "output_type": "execute_result"
        }
      ],
      "source": [
        "# 불균형 데이터 확인\n",
        "df_train[df_train.iloc[:,1]==0]  #18678 \n",
        "df_train[df_train.iloc[:,1]==1]  #18822\n",
        "df_train.shape"
      ]
    },
    {
      "cell_type": "code",
      "execution_count": 8,
      "metadata": {
        "id": "HNlUM_Fa4WPX"
      },
      "outputs": [],
      "source": [
        "# 토큰화하고 빈도수(tfidf)에 기반한 벡터표현이 생성된 X를 따로저장\n",
        "from scipy.sparse import save_npz ,load_npz\n",
        "\n",
        "#vectorizer.fit_transform한것을 희소행렬로 저장\n",
        "# save_npz('37500개_vectorized_data.npz', X)\n",
        "\n",
        "#저장된 희소행렬을 불러오기\n",
        "X_loaded = load_npz('37500개_vectorized_data.npz')\n",
        "\n",
        "#이렇게 불러온 X_loaded는 바로 모델학습에 사용가능\n"
      ]
    },
    {
      "cell_type": "code",
      "execution_count": 9,
      "metadata": {
        "id": "WXsMQ5HmuoR1"
      },
      "outputs": [],
      "source": [
        "import numpy as np\n",
        "X_train_dense = np.expand_dims( X_loaded.toarray(), axis=-1 )\n",
        "# X_train_dense.shape\n",
        "# X_loaded.shape[1]\n",
        "# X_loaded.toarray().shape[1]"
      ]
    },
    {
      "cell_type": "code",
      "execution_count": 10,
      "metadata": {},
      "outputs": [],
      "source": [
        "import tensorflow as tf\n",
        "from tensorflow.keras.models import Sequential\n",
        "from tensorflow.keras.layers import Dense, BatchNormalization , Input, Dropout, Embedding\n",
        "from tensorflow.keras.layers import LSTM, Bidirectional\n",
        "from tensorflow.keras.callbacks import EarlyStopping, ModelCheckpoint, LearningRateScheduler"
      ]
    },
    {
      "cell_type": "code",
      "execution_count": null,
      "metadata": {},
      "outputs": [],
      "source": [
        "#flatten 사용하는것 알아보기\n",
        "\n",
        "def scheduler(epoch, lr):\n",
        "    if epoch < 10:\n",
        "        return lr\n",
        "    else:\n",
        "        return lr * 0.1\n",
        "\n",
        "model = Sequential([\n",
        "    encoder,\n",
        "    Embedding(\n",
        "        input_dim = len( encoder.get_vocabulary() ),\n",
        "        output_dim = 64,\n",
        "        mask_zero  = True),\n",
        "    Bidirectional( LSTM(64) ),\n",
        "    Dense( 64, activation = 'relu' ),\n",
        "    Dense( 1, activation = 'softmax')\n",
        "])\n",
        "\n",
        "optimizer = Adam(lr = 0.001)\n",
        "model.compile( optimizer = optimizer, loss = 'binary_crossentropy', metrics=['accuracy'])\n",
        "\n",
        "#ROC커브 그래프확인해볼것"
      ]
    },
    {
      "cell_type": "code",
      "execution_count": null,
      "metadata": {},
      "outputs": [],
      "source": [
        "ES = EarlyStopping(\n",
        "    monitor='val_loss',\n",
        "    mode = 'auto',\n",
        "    restore_best_weights = True\n",
        ")\n",
        "\n",
        "MC = ModelCheckpoint(\n",
        "    'best_RNN_model.h5',\n",
        "    monitor='val_loss',\n",
        "    save_best_only=True, mode='min'\n",
        ")\n",
        "\n",
        "LRS = LearningRateScheduler(scheduler)\n",
        "\n",
        "model.fit(\n",
        "    X_loaded.toarray(), y, \n",
        "    epochs= 10, \n",
        "    batch_size=500,\n",
        "    validation_split=0.3, \n",
        "    callbacks=[ES,MC,LRS]\n",
        ")\n",
        "    "
      ]
    },
    {
      "cell_type": "code",
      "execution_count": 107,
      "metadata": {
        "id": "Bl6oAcdct68I"
      },
      "outputs": [
        {
          "name": "stdout",
          "output_type": "stream",
          "text": [
            "1/1 [==============================] - 0s 49ms/step\n",
            "[[0.01700829]]\n",
            "예측 결과: [[0]]\n"
          ]
        }
      ],
      "source": [
        "test = ['정말 별로 입니다. 이게뭐니']\n",
        "\n",
        "# 학습된 TF-IDF 벡터라이저로 테스트 데이터 변환\n",
        "X_test_sample = vectorizer.transform(test)\n",
        "X_test_sample_dense = X_test_sample.toarray()\n",
        "\n",
        "# 모델을 사용하여 예측 수행\n",
        "predictions = model.predict(X_test_sample_dense)\n",
        "print(predictions)\n",
        "\n",
        "# 예측 결과 출력 (긍정: 1, 부정: 0)\n",
        "print(\"예측 결과:\", np.round( predictions ).astype(int))"
      ]
    },
    {
      "cell_type": "code",
      "execution_count": 25,
      "metadata": {
        "id": "0EClS3xeynli"
      },
      "outputs": [],
      "source": [
        "# model.save('기본 DNN 적용모델.h5')"
      ]
    }
  ],
  "metadata": {
    "accelerator": "GPU",
    "colab": {
      "provenance": []
    },
    "gpuClass": "standard",
    "kernelspec": {
      "display_name": "Python 3",
      "name": "python3"
    },
    "language_info": {
      "codemirror_mode": {
        "name": "ipython",
        "version": 3
      },
      "file_extension": ".py",
      "mimetype": "text/x-python",
      "name": "python",
      "nbconvert_exporter": "python",
      "pygments_lexer": "ipython3",
      "version": "3.10.6"
    }
  },
  "nbformat": 4,
  "nbformat_minor": 0
}
