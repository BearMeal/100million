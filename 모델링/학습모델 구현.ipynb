{
 "cells": [
  {
   "cell_type": "code",
   "execution_count": 4,
   "metadata": {},
   "outputs": [],
   "source": [
    "from tensorflow.keras import Sequential\n",
    "from tensorflow.keras import layers\n",
    "import tensorflow as tf\n",
    "model = Sequential([\n",
    "    # 임베딩 2000단어데이터,  300개의 단어를 나타내는 벡터차원(많을수록 성능 좋아짐)\n",
    "    #시퀀스 길이25, Embedding은 입력 시퀀스의 단어들을 고유한 인덱스로 매핑하여 벡터로 변환해준다\n",
    "    layers.Embedding(2000,300,input_length=25),\n",
    "    \n",
    "    #50개의 유닛(단?)을 가진 시퀀스데이터 처리\n",
    "    layers.LSTM(units=50),\n",
    "    \n",
    "    #출력값은 이진분류이기 때문에 2개의 차원,\n",
    "    layers.Dense(2,activation='softmax')\n",
    "    # softmax: 다중클래스분류에서 출력값의 확률분포를 계산\n",
    "])"
   ]
  }
 ],
 "metadata": {
  "kernelspec": {
   "display_name": "Python 3",
   "language": "python",
   "name": "python3"
  },
  "language_info": {
   "codemirror_mode": {
    "name": "ipython",
    "version": 3
   },
   "file_extension": ".py",
   "mimetype": "text/x-python",
   "name": "python",
   "nbconvert_exporter": "python",
   "pygments_lexer": "ipython3",
   "version": "3.10.6"
  },
  "orig_nbformat": 4
 },
 "nbformat": 4,
 "nbformat_minor": 2
}
