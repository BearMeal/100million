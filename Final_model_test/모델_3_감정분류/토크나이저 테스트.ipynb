{
 "cells": [
  {
   "cell_type": "code",
   "execution_count": 4,
   "metadata": {},
   "outputs": [
    {
     "name": "stderr",
     "output_type": "stream",
     "text": [
      "The tokenizer class you load from this checkpoint is not the same type as the class this function is called from. It may result in unexpected tokenization. \n",
      "The tokenizer class you load from this checkpoint is 'AlbertTokenizerFast'. \n",
      "The class this function is called from is 'BertTokenizer'.\n",
      "The tokenizer class you load from this checkpoint is not the same type as the class this function is called from. It may result in unexpected tokenization. \n",
      "The tokenizer class you load from this checkpoint is 'AlbertTokenizerFast'. \n",
      "The class this function is called from is 'BertTokenizerFast'.\n"
     ]
    },
    {
     "name": "stdout",
     "output_type": "stream",
     "text": [
      "[2, 16453, 14156, 28449, 8758, 13992, 2016, 3, 0, 0, 0, 0]\n",
      "['[CLS]', '안녕하세요', '저는', '이수', '##빈', '##입니다', '.', '[SEP]', '[PAD]', '[PAD]', '[PAD]', '[PAD]']\n",
      "[CLS] 안녕하세요 저는 이수빈입니다. [SEP] [PAD] [PAD] [PAD] [PAD]\n"
     ]
    }
   ],
   "source": [
    "from transformers import BertTokenizerFast\n",
    "\n",
    "tokenizer = BertTokenizerFast.from_pretrained(\"kykim/albert-kor-base\")\n",
    "\n",
    "Sentence = ['안녕하세요 저는 이수빈입니다.']\n",
    "# Sentence = ['좆 같은 놈, 좆같 은놈']\n",
    "\n",
    "train_encodings = tokenizer(\n",
    "    Sentence,\n",
    "    truncation=True,\n",
    "    padding='max_length',\n",
    "    max_length=12,\n",
    "    return_token_type_ids= False\n",
    ")\n",
    "\n",
    "#데이터확인\n",
    "#수치형 데이터\n",
    "print(train_encodings['input_ids'][0])\n",
    "#토큰화된 텍스트\n",
    "print(tokenizer.convert_ids_to_tokens(train_encodings['input_ids'][0]))\n",
    "#원본텍스트\n",
    "print(tokenizer.convert_tokens_to_string(tokenizer.convert_ids_to_tokens(train_encodings['input_ids'][0])))\n"
   ]
  }
 ],
 "metadata": {
  "kernelspec": {
   "display_name": "Python 3",
   "language": "python",
   "name": "python3"
  },
  "language_info": {
   "codemirror_mode": {
    "name": "ipython",
    "version": 3
   },
   "file_extension": ".py",
   "mimetype": "text/x-python",
   "name": "python",
   "nbconvert_exporter": "python",
   "pygments_lexer": "ipython3",
   "version": "3.10.6"
  },
  "orig_nbformat": 4
 },
 "nbformat": 4,
 "nbformat_minor": 2
}
